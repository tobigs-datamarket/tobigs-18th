{
 "cells": [
  {
   "cell_type": "markdown",
   "id": "00493e77",
   "metadata": {},
   "source": [
    "## 투빅스 18기 Week3 Neural Netwrk Basic 과제 - 18기 이다인"
   ]
  },
  {
   "cell_type": "markdown",
   "id": "747656a3",
   "metadata": {},
   "source": [
    "## Import Library"
   ]
  },
  {
   "cell_type": "code",
   "execution_count": 1,
   "id": "2d4be987",
   "metadata": {},
   "outputs": [],
   "source": [
    "import numpy as np\n",
    "from matplotlib import pyplot as plt\n",
    "from dataset.mnist import load_mnist\n",
    "import math"
   ]
  },
  {
   "cell_type": "markdown",
   "id": "bbd9ddbb",
   "metadata": {},
   "source": [
    "## Load Dataset\n",
    "- MNIST "
   ]
  },
  {
   "cell_type": "code",
   "execution_count": 2,
   "id": "2813d656",
   "metadata": {},
   "outputs": [],
   "source": [
    "(X_train, Y_train), (X_test, Y_test) = \\\n",
    "    load_mnist(normalize=True, one_hot_label=False)"
   ]
  },
  {
   "cell_type": "code",
   "execution_count": 3,
   "id": "2bd1d69a",
   "metadata": {},
   "outputs": [
    {
     "name": "stdout",
     "output_type": "stream",
     "text": [
      "X_train shape: (60000, 784)\n",
      "X_test shape: (10000, 784)\n",
      "Y_train shape: (60000,)\n",
      "Y_train shape: (10000,)\n"
     ]
    }
   ],
   "source": [
    "print(f'X_train shape: {X_train.shape}')\n",
    "print(f'X_test shape: {X_test.shape}')\n",
    "print(f'Y_train shape: {Y_train.shape}')\n",
    "print(f'Y_train shape: {Y_test.shape}')"
   ]
  },
  {
   "cell_type": "markdown",
   "id": "4581cc2e",
   "metadata": {},
   "source": [
    "## Activation Function \n",
    "- sigmoid & relu : hidden layer activation function \n",
    "- softmax : output layer activation function "
   ]
  },
  {
   "cell_type": "code",
   "execution_count": 4,
   "id": "a147a2b7",
   "metadata": {},
   "outputs": [],
   "source": [
    "class sigmoid:\n",
    "    # sigmoid 함수를 작성하세요 \n",
    "    def forward(x):\n",
    "        z = np.exp(-x)\n",
    "        sig = 1 / (1 + z)\n",
    "        return sig\n",
    "    \n",
    "    # sigmoid 함수의 미분을 작성하세요\n",
    "    def backward(x):\n",
    "        result = x * (1 - x)\n",
    "        return result"
   ]
  },
  {
   "cell_type": "code",
   "execution_count": 5,
   "id": "f37afa8d",
   "metadata": {},
   "outputs": [],
   "source": [
    "class relu:\n",
    "    # relu 함수를 작성하세요\n",
    "    def forward(x):\n",
    "        return np.maximum(0, x)\n",
    "    \n",
    "    # relu 함수의 미분을 작성하세요\n",
    "    def backward(x):\n",
    "        return np.where(x > 0, 1, 0)"
   ]
  },
  {
   "cell_type": "code",
   "execution_count": 6,
   "id": "cb44b346",
   "metadata": {},
   "outputs": [],
   "source": [
    "class softmax:\n",
    "    def forward(z):\n",
    "        y = []\n",
    "        for zi in z:\n",
    "            c = np.max(zi)\n",
    "            exp_zi = np.exp(zi-c)\n",
    "            sum_exp_zi = np.sum(exp_zi)\n",
    "            yi = exp_zi / sum_exp_zi\n",
    "            y.append(yi)\n",
    "\n",
    "        return np.array(y)\n",
    "    \n",
    "    def backward(p, y) :\n",
    "        dp = p.copy()\n",
    "        for dpi, yi in zip(dp, y):\n",
    "            for k in range(dp.shape[1]):\n",
    "                if k == yi :\n",
    "                    dpi[k] -= 1\n",
    "        return dp"
   ]
  },
  {
   "cell_type": "markdown",
   "id": "36955740",
   "metadata": {},
   "source": [
    "## Loss Function"
   ]
  },
  {
   "cell_type": "code",
   "execution_count": 7,
   "id": "44e0ad37",
   "metadata": {},
   "outputs": [],
   "source": [
    "def cross_entropy(p, y):\n",
    "    loss = []\n",
    "    for pi, yi in zip(p, y):\n",
    "        for k in range(p.shape[1]):\n",
    "            if k == yi:\n",
    "                loss.append((-1) * (np.log(pi[k] + 1e-8))) \n",
    "    return loss"
   ]
  },
  {
   "cell_type": "markdown",
   "id": "0f9a7228",
   "metadata": {},
   "source": [
    "## Layer"
   ]
  },
  {
   "cell_type": "code",
   "execution_count": 8,
   "id": "668bda1a",
   "metadata": {},
   "outputs": [],
   "source": [
    "class Layer:\n",
    "    def __init__(self, input_size, output_size, std=1e-4) :\n",
    "        self.input_size = input_size\n",
    "        self.output_size = output_size\n",
    "        self.bias = np.random.randn(output_size)\n",
    "        self.weight = np.random.randn(input_size, output_size)*std"
   ]
  },
  {
   "cell_type": "markdown",
   "id": "a72dfcee",
   "metadata": {},
   "source": [
    "## Neural Network\n",
    "- 각 메소드와 변수들의 역할을 주석으로 달아주세요! "
   ]
  },
  {
   "cell_type": "code",
   "execution_count": 9,
   "id": "33125095",
   "metadata": {},
   "outputs": [],
   "source": [
    "class CustomNet:\n",
    "    # CustomNet을 선언할 때 생성되는 값들입니다.\n",
    "    def __init__(self, lr=0.0001, epoch=500, batch_size=200):\n",
    "        self.lr = lr #가중치 업데이트에 이용 될 학습률\n",
    "        self.epoch = epoch  #모델이 학습을 반복할 횟수\n",
    "        self.batch_size = batch_size #모델이 한 번 학습할 때 사용될 데이터 사이즈\n",
    "        self.loss_function = cross_entropy #모댈의 손실함수 지정(cross entropy) :모델의 성능 평가에 이용\n",
    "        self.layers = [] #인공신경망에 쌓을 레이어 층\n",
    "        self.activations = [softmax] #활성화 함수\n",
    "        self.nodes = [] #레이어 층 안에 노드\n",
    "    \n",
    "    # Layer를 추가할 때 호출합니다\n",
    "    def addLayer(self, Layer): \n",
    "        self.layers.append(Layer) #입력값을 통해 레이어를 추가\n",
    "        if not self.nodes: #노드가 비어있을 때 \n",
    "            self.nodes.append(np.zeros(Layer.input_size)) #input size만큼 노드 추가\n",
    "        self.nodes.append(np.zeros(Layer.output_size)) #노드가 비어있지 않다면 output_size를 추가\n",
    "        \n",
    "    # Activation Function을 추가할 때 호출합니다\n",
    "    def addActivation(self, Activation):\n",
    "        tmp = self.activations.pop() #가장 마지막에 있는 활성화 함수를 tmp에 지정\n",
    "        self.activations.append(Activation) #입력한 활성화 함수를 추가\n",
    "        self.activations.append(tmp) #지정된 활성화 함수를 다시 추가\n",
    "        \n",
    "    # 순전파 함수\n",
    "    def _forward(self, X):\n",
    "        self.nodes[0] = X.copy() #복사한 x의 노드를 초기화\n",
    "        output = X.copy() #output에 x의 값을 복사해 넣음\n",
    "        for i in range(len(self.layers)): \n",
    "            Layer = self.layers[i] \n",
    "            Activation = self.activations[i] \n",
    "            output = np.dot(self.nodes[i], Layer.weight) #노드의 값과 가중치의 값의 행렬곱\n",
    "            output = output+ Layer.bias # 행렬곱한 값에 bias 값을 더함\n",
    "            output = Activation.forward(output) #bias를 더한 값에 활성화 함수 적용\n",
    "            self.nodes[i+1] = output \n",
    "        return output   \n",
    "    \n",
    "    # 역전파 함수\n",
    "    def _backward(self, X, output, y) :\n",
    "        for i in reversed(range(len(self.layers))): \n",
    "            a = self.nodes[i+1] \n",
    "            Layer = self.layers[i] #현재의 레이어 값을 따로 지정\n",
    "            Activation = self.activations[i] #활성화 함수 지정\n",
    "            # error 를 층별로 계산\n",
    "            if i+1 == len(self.layers): \n",
    "                error = Activation.backward(output, y)\n",
    "            else:\n",
    "                error *= Activation.backward(a)\n",
    "            Layer.weight -= np.dot(error.T, self.nodes[i]).T*self.lr/X.shape[0] #error값과 학습률을 통해 가중치 업데이트\n",
    "            Layer.bias -= error.sum(axis=0)*self.lr/X.shape[0] #error값과 학습률을 통해 bias 값 업데이트\n",
    "            error = np.dot(error, Layer.weight.T) \n",
    "            \n",
    "    # Accrucy를 반환합니다\n",
    "    def _accuracy(self, output, y):\n",
    "        pre_p = np.argmax(output, axis=1) \n",
    "        return np.sum(pre_p==y)/y.shape[0] \n",
    "    \n",
    "    # 데이터셋에 모델을 fit할때 호출합니다\n",
    "    def fit(self, X, y, val_X, val_y):\n",
    "        history = {'val_acc': [],'val_loss': []}\n",
    "        N = X.shape[0]\n",
    "        for i in range(self.epoch): #epoch의 값 만큼 수행\n",
    "            for j in range(N//self.batch_size): #한 번 학습할 때 batch size만큼 수행\n",
    "                batch_mask = np.random.choice(N, self.batch_size) \n",
    "                X_batch = X[batch_mask] \n",
    "                y_batch = y[batch_mask] \n",
    "                output = self._forward(X_batch) #배치 데이터의 순전파 수행\n",
    "                self._backward(X_batch, output, y_batch) #배치 데이터의 역전파 수행\n",
    "            \n",
    "            #accuracy와 loss를 기록해둡시다\n",
    "            output = self._forward(val_X) #val데이터 순전파 수행\n",
    "            history[\"val_acc\"].append(self._accuracy(output, val_y)) #정확도 저장\n",
    "            history[\"val_loss\"].append(sum(self.loss_function(output, val_y))) #loss값 저장\n",
    "            \n",
    "            #중간중간 기록을 찍어볼 때 사용. 적절히 조절해 쓰세요\n",
    "            if i % 10 == 0:\n",
    "                print(i, \"test accuracy :\", history[\"val_acc\"][-1])\n",
    "                print(i, \"test loss     :\", history[\"val_loss\"][-1])\n",
    "        return history"
   ]
  },
  {
   "cell_type": "markdown",
   "id": "e7787d0e",
   "metadata": {},
   "source": [
    "## Customizing\n",
    "- Network parameter, Layer architecture, Activation function .. 등등 다양한 하이퍼파라미터를 커스터마이징하여 높은 성능에 도달해 봅시다! "
   ]
  },
  {
   "cell_type": "markdown",
   "id": "bdafded1-e1b4-4465-a4d7-7d2f6f4f8ac6",
   "metadata": {},
   "source": [
    "### 1"
   ]
  },
  {
   "cell_type": "code",
   "execution_count": 10,
   "id": "10d3d20c",
   "metadata": {},
   "outputs": [],
   "source": [
    "# 하이퍼파라미터를 적절히 조절해 뉴럴넷을 선언하세요\n",
    "nn = CustomNet(lr=0.005, epoch=200, batch_size=400)\n",
    "\n",
    "# 원하는 만큼 층과 활성화 함수를 쌓아 주세요. 기본적으로 2Layer를 예시로 적어드립니다\n",
    "nn.addLayer(Layer(784,100))\n",
    "nn.addActivation(sigmoid)\n",
    "nn.addLayer(Layer(100,10))"
   ]
  },
  {
   "cell_type": "code",
   "execution_count": 11,
   "id": "771766e2",
   "metadata": {},
   "outputs": [
    {
     "name": "stdout",
     "output_type": "stream",
     "text": [
      "(784, 100) (100,)\n",
      "(100, 10) (10,)\n"
     ]
    }
   ],
   "source": [
    "# 선언한 뉴럴넷의 구조입니다\n",
    "for layer in nn.layers:\n",
    "    print(layer.weight.shape, layer.bias.shape)"
   ]
  },
  {
   "cell_type": "code",
   "execution_count": 12,
   "id": "b2c1018a",
   "metadata": {},
   "outputs": [
    {
     "name": "stdout",
     "output_type": "stream",
     "text": [
      "0 test accuracy : 0.101\n",
      "0 test loss     : 23183.58985493967\n",
      "10 test accuracy : 0.1185\n",
      "10 test loss     : 22830.211740717343\n",
      "20 test accuracy : 0.139\n",
      "20 test loss     : 22460.340682752572\n",
      "30 test accuracy : 0.2366\n",
      "30 test loss     : 21595.16396061517\n",
      "40 test accuracy : 0.275\n",
      "40 test loss     : 20362.96495206935\n",
      "50 test accuracy : 0.3122\n",
      "50 test loss     : 19271.2904557583\n",
      "60 test accuracy : 0.3817\n",
      "60 test loss     : 18058.356633121864\n",
      "70 test accuracy : 0.4347\n",
      "70 test loss     : 16355.470135049618\n",
      "80 test accuracy : 0.487\n",
      "80 test loss     : 14619.783894173543\n",
      "90 test accuracy : 0.5549\n",
      "90 test loss     : 13168.50784948348\n",
      "100 test accuracy : 0.6228\n",
      "100 test loss     : 11881.388974663836\n",
      "110 test accuracy : 0.6814\n",
      "110 test loss     : 10687.064377226498\n",
      "120 test accuracy : 0.7246\n",
      "120 test loss     : 9586.823710726076\n",
      "130 test accuracy : 0.76\n",
      "130 test loss     : 8631.689426592417\n",
      "140 test accuracy : 0.7891\n",
      "140 test loss     : 7829.684278109321\n",
      "150 test accuracy : 0.8093\n",
      "150 test loss     : 7159.3854593698225\n",
      "160 test accuracy : 0.8255\n",
      "160 test loss     : 6606.278853128355\n",
      "170 test accuracy : 0.8346\n",
      "170 test loss     : 6145.053311045943\n",
      "180 test accuracy : 0.8437\n",
      "180 test loss     : 5763.175298127014\n",
      "190 test accuracy : 0.8523\n",
      "190 test loss     : 5436.973778216484\n"
     ]
    }
   ],
   "source": [
    "history = nn.fit(X_train, Y_train, X_test, Y_test)"
   ]
  },
  {
   "cell_type": "code",
   "execution_count": 15,
   "id": "1f38448e-1e3b-4084-8657-ce2890570a73",
   "metadata": {},
   "outputs": [
    {
     "data": {
      "image/png": "[encoded data removed]",
      "text/plain": [
       "<Figure size 432x288 with 2 Axes>"
      ]
     },
     "metadata": {
      "needs_background": "light"
     },
     "output_type": "display_data"
    }
   ],
   "source": [
    "fig = plt.figure()\n",
    "ax = fig.add_subplot(111)\n",
    "\n",
    "ax.plot(range(200), history['val_acc'], color='indianred')\n",
    "plt.xlabel('epochs')\n",
    "plt.ylabel('Accuracy(%)')\n",
    "ax2 = ax.twinx()\n",
    "ax2.plot(range(200), history['val_loss'], color='steelblue')\n",
    "plt.ylabel('Loss')\n",
    "\n",
    "plt.show()"
   ]
  },
  {
   "cell_type": "markdown",
   "id": "44196122-bebe-4cf1-aa07-94d0cdc69421",
   "metadata": {},
   "source": [
    "### 2"
   ]
  },
  {
   "cell_type": "code",
   "execution_count": 16,
   "id": "bd0c1237-f0e1-4aaa-83bc-67ecfa5d47aa",
   "metadata": {},
   "outputs": [
    {
     "name": "stdout",
     "output_type": "stream",
     "text": [
      "(784, 100) (100,)\n",
      "(100, 10) (10,)\n"
     ]
    }
   ],
   "source": [
    "nn = CustomNet(lr=0.005, epoch=100, batch_size=300)\n",
    "nn.addLayer(Layer(784,100))\n",
    "nn.addActivation(sigmoid)\n",
    "nn.addLayer(Layer(100,10))\n",
    "\n",
    "for layer in nn.layers:\n",
    "    print(layer.weight.shape, layer.bias.shape)"
   ]
  },
  {
   "cell_type": "code",
   "execution_count": 17,
   "id": "9c2ce0de",
   "metadata": {},
   "outputs": [
    {
     "name": "stdout",
     "output_type": "stream",
     "text": [
      "0 test accuracy : 0.1135\n",
      "0 test loss     : 23009.650816155026\n",
      "10 test accuracy : 0.1159\n",
      "10 test loss     : 22942.34793675043\n",
      "20 test accuracy : 0.2071\n",
      "20 test loss     : 22835.004418467608\n",
      "30 test accuracy : 0.2224\n",
      "30 test loss     : 22532.235484309072\n",
      "40 test accuracy : 0.2124\n",
      "40 test loss     : 21545.81573741241\n",
      "50 test accuracy : 0.3742\n",
      "50 test loss     : 19618.444270119646\n",
      "60 test accuracy : 0.446\n",
      "60 test loss     : 16738.377142089506\n",
      "70 test accuracy : 0.5519\n",
      "70 test loss     : 14024.368744331565\n",
      "80 test accuracy : 0.6562\n",
      "80 test loss     : 11809.598274260501\n",
      "90 test accuracy : 0.7201\n",
      "90 test loss     : 9962.777058578748\n"
     ]
    }
   ],
   "source": [
    "history = nn.fit(X_train, Y_train, X_test, Y_test)"
   ]
  },
  {
   "cell_type": "code",
   "execution_count": 18,
   "id": "9d680fb7-e3b0-477c-a1d3-022aa836627f",
   "metadata": {},
   "outputs": [
    {
     "data": {
      "image/png": "[encoded data removed]",
      "text/plain": [
       "<Figure size 432x288 with 2 Axes>"
      ]
     },
     "metadata": {
      "needs_background": "light"
     },
     "output_type": "display_data"
    }
   ],
   "source": [
    "fig = plt.figure()\n",
    "ax = fig.add_subplot(111)\n",
    "\n",
    "ax.plot(range(100), history['val_acc'], color='indianred')\n",
    "plt.xlabel('epochs')\n",
    "plt.ylabel('Accuracy(%)')\n",
    "ax2 = ax.twinx()\n",
    "ax2.plot(range(100), history['val_loss'], color='steelblue')\n",
    "plt.ylabel('Loss')\n",
    "\n",
    "plt.show()"
   ]
  },
  {
   "cell_type": "markdown",
   "id": "730d716c-f1eb-4c74-abb0-efbb0e41c135",
   "metadata": {},
   "source": [
    "### 3"
   ]
  },
  {
   "cell_type": "code",
   "execution_count": 19,
   "id": "41d299a5-122a-4602-88f2-29119463965e",
   "metadata": {},
   "outputs": [
    {
     "name": "stdout",
     "output_type": "stream",
     "text": [
      "(784, 100) (100,)\n",
      "(100, 10) (10,)\n"
     ]
    }
   ],
   "source": [
    "nn = CustomNet(lr=0.005, epoch=100, batch_size=300)\n",
    "nn.addLayer(Layer(784,100))\n",
    "nn.addActivation(relu)\n",
    "nn.addLayer(Layer(100,10))\n",
    "\n",
    "for layer in nn.layers:\n",
    "    print(layer.weight.shape, layer.bias.shape)"
   ]
  },
  {
   "cell_type": "code",
   "execution_count": 20,
   "id": "2bf41d58-f974-499c-b7ab-45fe2da7f7ff",
   "metadata": {},
   "outputs": [
    {
     "name": "stdout",
     "output_type": "stream",
     "text": [
      "0 test accuracy : 0.1135\n",
      "0 test loss     : 22959.702296706913\n",
      "10 test accuracy : 0.2808\n",
      "10 test loss     : 21007.38802061765\n",
      "20 test accuracy : 0.7318\n",
      "20 test loss     : 9153.603835424123\n",
      "30 test accuracy : 0.8303\n",
      "30 test loss     : 5768.508635161431\n",
      "40 test accuracy : 0.8762\n",
      "40 test loss     : 4418.713215595423\n",
      "50 test accuracy : 0.8914\n",
      "50 test loss     : 3797.3798084212153\n",
      "60 test accuracy : 0.9\n",
      "60 test loss     : 3473.9331644423432\n",
      "70 test accuracy : 0.9046\n",
      "70 test loss     : 3268.244838091262\n",
      "80 test accuracy : 0.9102\n",
      "80 test loss     : 3116.2650043972944\n",
      "90 test accuracy : 0.9143\n",
      "90 test loss     : 2997.6129927657607\n"
     ]
    }
   ],
   "source": [
    "history = nn.fit(X_train, Y_train, X_test, Y_test)"
   ]
  },
  {
   "cell_type": "code",
   "execution_count": 21,
   "id": "10ce8a14-a02e-4df7-ba30-b4141111b6e7",
   "metadata": {},
   "outputs": [
    {
     "data": {
      "image/png": "[encoded data removed]",
      "text/plain": [
       "<Figure size 432x288 with 2 Axes>"
      ]
     },
     "metadata": {
      "needs_background": "light"
     },
     "output_type": "display_data"
    }
   ],
   "source": [
    "fig = plt.figure()\n",
    "ax = fig.add_subplot(111)\n",
    "\n",
    "ax.plot(range(100), history['val_acc'], color='indianred')\n",
    "plt.xlabel('epochs')\n",
    "plt.ylabel('Accuracy(%)')\n",
    "ax2 = ax.twinx()\n",
    "ax2.plot(range(100), history['val_loss'], color='steelblue')\n",
    "plt.ylabel('Loss')\n",
    "\n",
    "plt.show()"
   ]
  },
  {
   "cell_type": "markdown",
   "id": "b28a2c5c-67d0-4646-9c8a-68bc596b1cc4",
   "metadata": {},
   "source": [
    "### 4"
   ]
  },
  {
   "cell_type": "code",
   "execution_count": 22,
   "id": "ceede08a-59d9-4326-920d-363d1fd6548d",
   "metadata": {},
   "outputs": [
    {
     "name": "stdout",
     "output_type": "stream",
     "text": [
      "(784, 100) (100,)\n",
      "(100, 10) (10,)\n"
     ]
    }
   ],
   "source": [
    "nn = CustomNet(lr=0.005, epoch=200, batch_size=400)\n",
    "nn.addLayer(Layer(784,100))\n",
    "nn.addActivation(relu)\n",
    "nn.addLayer(Layer(100,10))\n",
    "\n",
    "for layer in nn.layers:\n",
    "    print(layer.weight.shape, layer.bias.shape)"
   ]
  },
  {
   "cell_type": "code",
   "execution_count": 23,
   "id": "94e1d331-90a6-4550-8fa7-6b314d468e4e",
   "metadata": {},
   "outputs": [
    {
     "name": "stdout",
     "output_type": "stream",
     "text": [
      "0 test accuracy : 0.1136\n",
      "0 test loss     : 22984.226280742234\n",
      "10 test accuracy : 0.1703\n",
      "10 test loss     : 22385.70649628043\n",
      "20 test accuracy : 0.5576\n",
      "20 test loss     : 14585.95867337484\n",
      "30 test accuracy : 0.787\n",
      "30 test loss     : 7592.746445764468\n",
      "40 test accuracy : 0.8476\n",
      "40 test loss     : 5473.966090544566\n",
      "50 test accuracy : 0.8779\n",
      "50 test loss     : 4459.983558189002\n",
      "60 test accuracy : 0.8907\n",
      "60 test loss     : 3943.380162470489\n",
      "70 test accuracy : 0.8968\n",
      "70 test loss     : 3646.283725325423\n",
      "80 test accuracy : 0.9033\n",
      "80 test loss     : 3450.6447133698193\n",
      "90 test accuracy : 0.9058\n",
      "90 test loss     : 3297.4231590298164\n",
      "100 test accuracy : 0.9085\n",
      "100 test loss     : 3186.6030482823994\n",
      "110 test accuracy : 0.912\n",
      "110 test loss     : 3093.2202127127075\n",
      "120 test accuracy : 0.9146\n",
      "120 test loss     : 3011.3513306417835\n",
      "130 test accuracy : 0.9161\n",
      "130 test loss     : 2940.1241065880567\n",
      "140 test accuracy : 0.9184\n",
      "140 test loss     : 2876.5801764759417\n",
      "150 test accuracy : 0.9207\n",
      "150 test loss     : 2814.234889238319\n",
      "160 test accuracy : 0.9218\n",
      "160 test loss     : 2757.054059245265\n",
      "170 test accuracy : 0.9233\n",
      "170 test loss     : 2704.3356247057554\n",
      "180 test accuracy : 0.9247\n",
      "180 test loss     : 2653.700379406526\n",
      "190 test accuracy : 0.9268\n",
      "190 test loss     : 2602.124390673107\n"
     ]
    }
   ],
   "source": [
    "history = nn.fit(X_train, Y_train, X_test, Y_test)"
   ]
  },
  {
   "cell_type": "code",
   "execution_count": 25,
   "id": "a5d3b552-7b7c-421f-b973-02c38071302b",
   "metadata": {},
   "outputs": [
    {
     "data": {
      "image/png": "[encoded data removed]",
      "text/plain": [
       "<Figure size 432x288 with 2 Axes>"
      ]
     },
     "metadata": {
      "needs_background": "light"
     },
     "output_type": "display_data"
    }
   ],
   "source": [
    "fig = plt.figure()\n",
    "ax = fig.add_subplot(111)\n",
    "\n",
    "ax.plot(range(200), history['val_acc'], color='indianred')\n",
    "plt.xlabel('epochs')\n",
    "plt.ylabel('Accuracy(%)')\n",
    "ax2 = ax.twinx()\n",
    "ax2.plot(range(200), history['val_loss'], color='steelblue')\n",
    "plt.ylabel('Loss')\n",
    "\n",
    "plt.show()"
   ]
  },
  {
   "cell_type": "markdown",
   "id": "d9b9f07f-30c2-4ca6-ac92-5a32c1130456",
   "metadata": {},
   "source": [
    "* Sigmoid함수를 사용했을 때보다 Relu함수를 활성화 함수로 사용했을 때 정확도가 훨씬 올라간 것을 알 수 있으며, epoch와 batch_size를 각각 200과 400으로 설정했을 때 학습시간은 훨씬 늘지만 더 높은 정확도를 보이는 것을 확인할 수 있다."
   ]
  },
  {
   "cell_type": "markdown",
   "id": "d54e88f4-369b-45be-99e3-49a1644f0ca8",
   "metadata": {},
   "source": [
    "## Accuracy, Loss Visualization\n",
    "- 자유롭게 Accuracy나 Loss를 시각화하여 확인하고 결과를 확인해 보세요! "
   ]
  },
  {
   "cell_type": "code",
   "execution_count": null,
   "id": "eb733190",
   "metadata": {},
   "outputs": [],
   "source": [
    "# 위에서 시각화 같이 진행했습니다!!"
   ]
  }
 ],
 "metadata": {
  "kernelspec": {
   "display_name": "Python 3 (ipykernel)",
   "language": "python",
   "name": "python3"
  },
  "language_info": {
   "codemirror_mode": {
    "name": "ipython",
    "version": 3
   },
   "file_extension": ".py",
   "mimetype": "text/x-python",
   "name": "python",
   "nbconvert_exporter": "python",
   "pygments_lexer": "ipython3",
   "version": "3.8.12"
  }
 },
 "nbformat": 4,
 "nbformat_minor": 5
}
