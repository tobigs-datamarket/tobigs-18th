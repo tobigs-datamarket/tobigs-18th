{
  "cells": [
    {
      "cell_type": "markdown",
      "id": "00493e77",
      "metadata": {
        "id": "00493e77"
      },
      "source": [
        "> # Neural Network Basic - Week3 과제\n"
      ]
    },
    {
      "cell_type": "code",
      "source": [
        "from google.colab import drive\n",
        "\n",
        "drive.mount('/home/contents/')"
      ],
      "metadata": {
        "colab": {
          "base_uri": "https://localhost:8080/"
        },
        "id": "FXRj8QgjmiNP",
        "outputId": "bde9fb03-ee01-4152-fb2b-7d9ef7c56183"
      },
      "id": "FXRj8QgjmiNP",
      "execution_count": 22,
      "outputs": [
        {
          "output_type": "stream",
          "name": "stdout",
          "text": [
            "Drive already mounted at /home/contents/; to attempt to forcibly remount, call drive.mount(\"/home/contents/\", force_remount=True).\n"
          ]
        }
      ]
    },
    {
      "cell_type": "code",
      "source": [
        "import sys, os\n",
        "os.chdir('/home/contents/MyDrive/Colab Notebooks/Tobigs 18/Week 3')"
      ],
      "metadata": {
        "id": "QGx35JpXm_kG"
      },
      "id": "QGx35JpXm_kG",
      "execution_count": 23,
      "outputs": []
    },
    {
      "cell_type": "code",
      "source": [
        "!ls"
      ],
      "metadata": {
        "colab": {
          "base_uri": "https://localhost:8080/"
        },
        "id": "9K-g5eD9rHTa",
        "outputId": "51b6b96f-e864-40b9-c030-0a6d840ccfbf"
      },
      "id": "9K-g5eD9rHTa",
      "execution_count": 24,
      "outputs": [
        {
          "output_type": "stream",
          "name": "stdout",
          "text": [
            " dataset\n",
            " test_file.xlsx\n",
            " Tobigs18_Session_Week3_DecisionTree.ipynb\n",
            "'Tobigs18_Session_Week3_Naiive Bayes.ipynb'\n",
            " week3_NeuralNetworkBasic_실습.ipynb\n"
          ]
        }
      ]
    },
    {
      "cell_type": "markdown",
      "id": "747656a3",
      "metadata": {
        "id": "747656a3"
      },
      "source": [
        "## Import Library"
      ]
    },
    {
      "cell_type": "code",
      "execution_count": 25,
      "id": "2d4be987",
      "metadata": {
        "id": "2d4be987"
      },
      "outputs": [],
      "source": [
        "import numpy as np\n",
        "from matplotlib import pyplot as plt\n",
        "from dataset.mnist import load_mnist"
      ]
    },
    {
      "cell_type": "markdown",
      "id": "bbd9ddbb",
      "metadata": {
        "id": "bbd9ddbb"
      },
      "source": [
        "## Load Dataset\n",
        "- MNIST "
      ]
    },
    {
      "cell_type": "code",
      "execution_count": 26,
      "id": "2813d656",
      "metadata": {
        "id": "2813d656"
      },
      "outputs": [],
      "source": [
        "(X_train, Y_train), (X_test, Y_test) = \\\n",
        "    load_mnist(normalize=True, one_hot_label=False)"
      ]
    },
    {
      "cell_type": "code",
      "execution_count": 27,
      "id": "2bd1d69a",
      "metadata": {
        "id": "2bd1d69a",
        "outputId": "3eb17235-27ac-43b1-e71c-93200032ab38",
        "colab": {
          "base_uri": "https://localhost:8080/"
        }
      },
      "outputs": [
        {
          "output_type": "stream",
          "name": "stdout",
          "text": [
            "X_train shape: (60000, 784)\n",
            "X_test shape: (10000, 784)\n",
            "Y_train shape: (60000,)\n",
            "Y_train shape: (10000,)\n"
          ]
        }
      ],
      "source": [
        "print(f'X_train shape: {X_train.shape}')\n",
        "print(f'X_test shape: {X_test.shape}')\n",
        "print(f'Y_train shape: {Y_train.shape}')\n",
        "print(f'Y_train shape: {Y_test.shape}')"
      ]
    },
    {
      "cell_type": "markdown",
      "id": "4581cc2e",
      "metadata": {
        "id": "4581cc2e"
      },
      "source": [
        "## **Activation Function**\n",
        "- sigmoid & relu : **hidden layer** activation function \n",
        "- softmax : **output layer** activation function\n",
        "### **순전파**\n",
        "- 뉴럴 네트워크 모델의 입력층부터 출력층까지 순서대로 변수들을 계산하고 저장하는 것을 의미\n",
        "- 입력층에서 은닉층방향으로 이동하면서 각 입력에 해당하는 가중치가 곱해지고 결과적으로 가중치 합으로 계산되는 은닉층 뉴런의 함수 값이 입력됨.\n",
        "\n",
        "### **역전파**\n",
        "- input과 output값을 알고 있는 상태에서 신경망을 학습시키는 방법\n",
        "- 순전파 알고리즘에서 발생한 오차를 줄이기 위해 새로운 가중치를 업데이트하고, 다시 학습하는 과정 \n",
        "---\n",
        "\n",
        "### **forward**\n",
        "- In NN model, calculate whole variables from the model's input layer to output layer orderly\n",
        "- an artificial neural network wherein connections between the nodes do not form a cycle. \n",
        "- the information moves in only one direction - forward- from the input nodes, through the hidden nodes. \n",
        "### **back propagation**\n",
        "- Update the weights with the input value and output value so that we can reduce the loss from forward propagation algorithm. \n",
        "- Trainin feedfoward neural network \n"
      ]
    },
    {
      "cell_type": "markdown",
      "source": [
        "#### **sigmoid**\n",
        "- 시그모이드함수는 다음과 같이 정의\n",
        "$$sigmoid(x) =  \\frac{1}{1+e^{-x}}$$\n",
        "- 0에서 1사이의 함수로, 0과 1에 가까운 값을 통해 **이진분류**하는데 사용\n",
        "- (pros) 0과 1로 나뉘어 출력값이 어느값에 가까운지를 통해 어느 분류에 속하는지 쉽게 파악\n",
        "- (cons) 접선의 기울기가 saturated 되는 경향이 있어 **gradient vanishing 문제**가 생길 수 있음. \n",
        "    - 미분계수의 최대값이 0.25로 back-propagation을 계산하는 과정에서 미분 계수의 영향을 적게 받기 때문에 은닉층의 깊이가 깊으면 계산이 어려움. "
      ],
      "metadata": {
        "id": "YveBF-OkVOaJ"
      },
      "id": "YveBF-OkVOaJ"
    },
    {
      "cell_type": "code",
      "execution_count": 29,
      "id": "a147a2b7",
      "metadata": {
        "id": "a147a2b7"
      },
      "outputs": [],
      "source": [
        "class sigmoid:\n",
        "    def forward(x):\n",
        "        return 1/(1+np.exp(-x))\n",
        "    \n",
        "    def backward(x):\n",
        "        # 시그모이드 함수 미분 \n",
        "        return x*(1-x)"
      ]
    },
    {
      "cell_type": "markdown",
      "source": [
        "#### **relu**\n",
        "- relu함수는 다음과 같이 정의\n",
        "$$relu(x) = \\begin{cases}x & x > 0\\\\0 & x  \\leq  0\\end{cases}$$\n",
        "- (pros) 학습이 빠르고 연산비용이 적어 구현이 간단\n",
        "- (cons) 0보다 작은 값들은 모두 0으로 만들어 뉴런이 죽을 수도 있음. "
      ],
      "metadata": {
        "id": "DkD5xWXfWH1Z"
      },
      "id": "DkD5xWXfWH1Z"
    },
    {
      "cell_type": "code",
      "execution_count": 20,
      "id": "f37afa8d",
      "metadata": {
        "id": "f37afa8d"
      },
      "outputs": [],
      "source": [
        "class relu:\n",
        "    def forward(x):\n",
        "        return np.maximum(0, x)\n",
        "    \n",
        "    def backward(x):\n",
        "        return np.where(x>0, 1, 0)"
      ]
    },
    {
      "cell_type": "markdown",
      "source": [
        "### **softmax**\n",
        "- softmax 함수는 다음과 같이 정의됨.\n",
        "- k 차원의 벡터에서 i번째 원소를 $z_i$, i번째 클래스가 정답일 확률을 $p_i$라고 나타낸다면 소프트맥스 함수는 $p_i$라고 정의함. \n",
        "$$p_i =  \\frac{e^{z_i}}{ \\sum_{j=1}^k e^{z_j}}$$\n",
        "#### forward\n",
        "- To make our softmax function numerically stable, we normalize the values in the vector by multiplying the numerator and denominator with a constant C. \n",
        "    - usually $log(C) = -max(a)$\n",
        "    \n",
        "\n"
      ],
      "metadata": {
        "id": "wNnE8GhCagw0"
      },
      "id": "wNnE8GhCagw0"
    },
    {
      "cell_type": "code",
      "execution_count": 30,
      "id": "cb44b346",
      "metadata": {
        "id": "cb44b346"
      },
      "outputs": [],
      "source": [
        "class softmax:\n",
        "    def forward(z):\n",
        "        y = []\n",
        "        for zi in z:\n",
        "            # 1. In case the elements of the input array are very large, subtracting the maximum value in the array from every value of the array \n",
        "            c = np.max(zi)\n",
        "            exp_zi = np.exp(zi-c)\n",
        "\n",
        "            # 2. denominator\n",
        "            sum_exp_zi = np.sum(exp_zi)\n",
        "\n",
        "            # 3. calculate \n",
        "            yi = exp_zi / sum_exp_zi\n",
        "            y.append(yi)\n",
        "\n",
        "        return np.array(y)\n",
        "    \n",
        "    def backward(p, y) :\n",
        "        dp = p.copy()\n",
        "        for dpi, yi in zip(dp, y):\n",
        "            for k in range(dp.shape[1]):\n",
        "                if k == yi : # 정답값과 동일하다면 \n",
        "                    dpi[k] -= 1 # \n",
        "        return dp"
      ]
    },
    {
      "cell_type": "markdown",
      "id": "36955740",
      "metadata": {
        "id": "36955740"
      },
      "source": [
        "## Loss Function"
      ]
    },
    {
      "cell_type": "code",
      "execution_count": 31,
      "id": "44e0ad37",
      "metadata": {
        "id": "44e0ad37"
      },
      "outputs": [],
      "source": [
        "def cross_entropy(p, y):\n",
        "    loss = []\n",
        "    for pi, yi in zip(p, y):\n",
        "        for k in range(p.shape[1]):\n",
        "            if k == yi:\n",
        "                loss.append((-1) * (np.log(pi[k] + 1e-8))) # avoid divide by zero error \n",
        "    return loss"
      ]
    },
    {
      "cell_type": "markdown",
      "id": "0f9a7228",
      "metadata": {
        "id": "0f9a7228"
      },
      "source": [
        "## Layer"
      ]
    },
    {
      "cell_type": "code",
      "execution_count": 32,
      "id": "668bda1a",
      "metadata": {
        "id": "668bda1a"
      },
      "outputs": [],
      "source": [
        "class Layer:\n",
        "    def __init__(self, input_size, output_size, std=1e-4) :\n",
        "        self.input_size = input_size\n",
        "        self.output_size = output_size\n",
        "        self.bias = np.random.randn(output_size)\n",
        "        self.weight = np.random.randn(input_size, output_size)*std"
      ]
    },
    {
      "cell_type": "markdown",
      "id": "a72dfcee",
      "metadata": {
        "id": "a72dfcee"
      },
      "source": [
        "## Neural Network\n",
        "- 각 메소드와 변수들의 역할을 주석으로 달아주세요! "
      ]
    },
    {
      "cell_type": "code",
      "execution_count": 36,
      "id": "33125095",
      "metadata": {
        "id": "33125095"
      },
      "outputs": [],
      "source": [
        "class CustomNet:\n",
        "    # CustomNet을 선언할 때 생성되는 값들입니다.\n",
        "    def __init__(self, lr=0.0001, epoch=500, batch_size=200):\n",
        "        self.lr = lr # 학습률\n",
        "        self.epoch = epoch  # epoch\n",
        "        self.batch_size = batch_size # 모델이 한번에 학습하고자하는 데이터의 사이즈 \n",
        "\n",
        "        self.loss_function = cross_entropy # 비용함수는 cross entropy \n",
        "        self.layers = [] # layer 배열\n",
        "        \n",
        "        self.activations = [softmax] # 활성함수는 softmax\n",
        "        self.nodes = [] \n",
        "    \n",
        "    # Layer를 추가할 때 호출합니다\n",
        "    def addLayer(self, Layer): \n",
        "        self.layers.append(Layer) # 입력받는 Layer 추가\n",
        "        if not self.nodes: # node가 없다면 (초기화)\n",
        "            self.nodes.append(np.zeros(Layer.input_size)) # input size에 대한 정보 추가 \n",
        "        self.nodes.append(np.zeros(Layer.output_size)) # output 노드의 수를 추가\n",
        "        \n",
        "    # Activation Function을 추가할 때 호출합니다\n",
        "    def addActivation(self, Activation):\n",
        "        tmp = self.activations.pop() # 뒤에 있는 활성함수 pop : softmax\n",
        "        self.activations.append(Activation)  # 활성함수 추가\n",
        "        self.activations.append(tmp) # 다시 tmp 넣어줌 \n",
        "        \n",
        "    # 순전파 함수\n",
        "    def _forward(self, X):\n",
        "        self.nodes[0] = X.copy() # 입력받은 X로 첫번째 노드 초기화\n",
        "        output = X.copy() # ouput에 X copy\n",
        "        for i in range(len(self.layers)): \n",
        "            # 1. 데이터 로드 \n",
        "            Layer = self.layers[i] # 반복할 Layer \n",
        "            Activation = self.activations[i] # 활설함수\n",
        "\n",
        "            # 2. 예측값 연산 (1) 가중치 행렬 곱 (2) 편향값 더하기 \n",
        "            output = np.dot(self.nodes[i], Layer.weight) # node와 가중치를 행렬곱 \n",
        "            output = output+ Layer.bias # 편향값 더하기 \n",
        "    \n",
        "            # 3. 활성함수 적용 \n",
        "            output = Activation.forward(output) \n",
        "            \n",
        "            # 4. 다음번 노드의 결과값으로 초기화 \n",
        "            self.nodes[i+1] = output \n",
        "\n",
        "        return output   \n",
        "    \n",
        "    # 역전파 함수\n",
        "    def _backward(self, X, output, y) :\n",
        "        for i in reversed(range(len(self.layers))): # 역전파이므로 back에서 진행 \n",
        "            a = self.nodes[i+1]  # 다음 레이어의 값\n",
        "            Layer = self.layers[i] # 현재 레이어의 값 \n",
        "            Activation = self.activations[i]  # 해당 레이어의 활성함수 \n",
        "            \n",
        "            if i+1 == len(self.layers): # softmax 함수의 경우 \n",
        "                error = Activation.backward(output, y) \n",
        "            else: # relu or sigmoid \n",
        "                error *= Activation.backward(a)\n",
        "\n",
        "            Layer.weight -= np.dot(error.T, self.nodes[i]).T*self.lr/X.shape[0] # 가중치 업데이트\n",
        "            Layer.bias -= error.sum(axis=0)*self.lr/X.shape[0] # 편향값 업데이트\n",
        "\n",
        "            error = np.dot(error, Layer.weight.T) # 에러값 계산 \n",
        "            \n",
        "    # Accrucy를 반환합니다\n",
        "    def _accuracy(self, output, y):\n",
        "        pre_p = np.argmax(output, axis=1) # 가장 높은 값을 갖는 인덱스 반환 (예측값)\n",
        "        return np.sum(pre_p==y)/y.shape[0] # 정확도 계산 \n",
        "    \n",
        "    # 데이터셋에 모델을 fit할때 호출합니다\n",
        "    def fit(self, X, y, val_X, val_y):\n",
        "        history = {'val_acc': [],'val_loss': []}\n",
        "        N = X.shape[0]\n",
        "        for i in range(self.epoch):\n",
        "            for j in range(N//self.batch_size): \n",
        "                batch_mask = np.random.choice(N, self.batch_size) # batch size만큼 랜덤하게 N개의 mask 선택 \n",
        "                # x값과 y값 선언 \n",
        "                X_batch = X[batch_mask] \n",
        "                y_batch = y[batch_mask] \n",
        "\n",
        "                output = self._forward(X_batch) # batch 데이터 forward\n",
        "                self._backward(X_batch, output, y_batch) # backwar -> 업데이트 \n",
        "            \n",
        "            #accuracy와 loss를 기록해둡시다\n",
        "            output = self._forward(val_X) \n",
        "            history[\"val_acc\"].append(self._accuracy(output, val_y)) # 정확도 \n",
        "            history[\"val_loss\"].append(sum(self.loss_function(output, val_y))) # 손실율\n",
        "            \n",
        "            #중간중간 기록을 찍어볼 때 사용. 적절히 조절해 쓰세요\n",
        "            if i % 10 == 0:\n",
        "                print(i, \"test accuracy :\", history[\"val_acc\"][-1])\n",
        "                print(i, \"test loss     :\", history[\"val_loss\"][-1])\n",
        "        return history"
      ]
    },
    {
      "cell_type": "markdown",
      "id": "e7787d0e",
      "metadata": {
        "id": "e7787d0e"
      },
      "source": [
        "## Customizing\n",
        "- Network parameter, Layer architecture, Activation function .. 등등 다양한 하이퍼파라미터를 커스터마이징하여 높은 성능에 도달해 봅시다! "
      ]
    },
    {
      "cell_type": "code",
      "execution_count": 33,
      "id": "10d3d20c",
      "metadata": {
        "id": "10d3d20c"
      },
      "outputs": [],
      "source": [
        "# 하이퍼파라미터를 적절히 조절해 뉴럴넷을 선언하세요\n",
        "nn = CustomNet(lr=0.005, epoch=200, batch_size=400)\n",
        "\n",
        "# 원하는 만큼 층과 활성화 함수를 쌓아 주세요. 기본적으로 2Layer를 예시로 적어드립니다\n",
        "nn.addLayer(Layer(784,100))\n",
        "nn.addActivation(sigmoid)\n",
        "nn.addLayer(Layer(100,10))"
      ]
    },
    {
      "cell_type": "code",
      "execution_count": 34,
      "id": "771766e2",
      "metadata": {
        "id": "771766e2",
        "outputId": "064849cd-6d18-4dce-f7da-eebb6b165eec",
        "colab": {
          "base_uri": "https://localhost:8080/"
        }
      },
      "outputs": [
        {
          "output_type": "stream",
          "name": "stdout",
          "text": [
            "(784, 100) (100,)\n",
            "(100, 10) (10,)\n"
          ]
        }
      ],
      "source": [
        "# 선언한 뉴럴넷의 구조입니다\n",
        "for layer in nn.layers:\n",
        "    print(layer.weight.shape, layer.bias.shape)"
      ]
    },
    {
      "cell_type": "code",
      "execution_count": 35,
      "id": "b2c1018a",
      "metadata": {
        "id": "b2c1018a",
        "colab": {
          "base_uri": "https://localhost:8080/"
        },
        "outputId": "2f133d3c-8277-4487-ffe5-88dc45b40f30"
      },
      "outputs": [
        {
          "output_type": "stream",
          "name": "stdout",
          "text": [
            "0 test accuracy : 0.1032\n",
            "0 test loss     : 23051.435618705647\n",
            "10 test accuracy : 0.1138\n",
            "10 test loss     : 22929.714335638222\n",
            "20 test accuracy : 0.1537\n",
            "20 test loss     : 22802.747863950117\n",
            "30 test accuracy : 0.178\n",
            "30 test loss     : 22495.362899875414\n",
            "40 test accuracy : 0.1986\n",
            "40 test loss     : 21601.565209659835\n",
            "50 test accuracy : 0.2963\n",
            "50 test loss     : 20088.968954640466\n",
            "60 test accuracy : 0.3073\n",
            "60 test loss     : 18780.420949814732\n",
            "70 test accuracy : 0.4049\n",
            "70 test loss     : 17691.737450620454\n",
            "80 test accuracy : 0.4727\n",
            "80 test loss     : 16253.833383977088\n",
            "90 test accuracy : 0.5304\n",
            "90 test loss     : 14405.532975882\n",
            "100 test accuracy : 0.6126\n",
            "100 test loss     : 12778.708951329634\n",
            "110 test accuracy : 0.6891\n",
            "110 test loss     : 11225.864041458139\n",
            "120 test accuracy : 0.7463\n",
            "120 test loss     : 9704.590325754396\n",
            "130 test accuracy : 0.7775\n",
            "130 test loss     : 8482.741982205192\n",
            "140 test accuracy : 0.7996\n",
            "140 test loss     : 7575.473313188656\n",
            "150 test accuracy : 0.8185\n",
            "150 test loss     : 6883.372610804502\n",
            "160 test accuracy : 0.8315\n",
            "160 test loss     : 6344.424229654371\n",
            "170 test accuracy : 0.8423\n",
            "170 test loss     : 5910.008888228324\n",
            "180 test accuracy : 0.8517\n",
            "180 test loss     : 5551.366962803107\n",
            "190 test accuracy : 0.8589\n",
            "190 test loss     : 5250.7988537114625\n"
          ]
        }
      ],
      "source": [
        "history = nn.fit(X_train, Y_train, X_test, Y_test)"
      ]
    },
    {
      "cell_type": "markdown",
      "id": "b76a6163",
      "metadata": {
        "id": "b76a6163"
      },
      "source": [
        "## Accuracy, Loss Visualization"
      ]
    },
    {
      "cell_type": "code",
      "source": [
        "plt.figure(figsize=(10,5))\n",
        "plt.subplot(1,2,1)\n",
        "plt.xlabel('Epoch')\n",
        "plt.ylabel('Loss')\n",
        "plt.plot(np.arange(1,201),history['val_loss'])\n",
        "plt.subplot(1,2,2)\n",
        "plt.xlabel('Epoch')\n",
        "plt.ylabel('Accuracy')\n",
        "plt.plot(np.arange(1,201), history['val_acc'])\n",
        "plt.show()"
      ],
      "metadata": {
        "colab": {
          "base_uri": "https://localhost:8080/",
          "height": 337
        },
        "id": "kJ18IGMOpvkL",
        "outputId": "2c3933e9-4b48-4bf2-8b7c-708343d1c6c7"
      },
      "id": "kJ18IGMOpvkL",
      "execution_count": 48,
      "outputs": [
        {
          "output_type": "display_data",
          "data": {
            "text/plain": [
              "<Figure size 720x360 with 2 Axes>"
            ],
            "image/png": "[encoded data removed]"
          },
          "metadata": {
            "needs_background": "light"
          }
        }
      ]
    }
  ],
  "metadata": {
    "kernelspec": {
      "display_name": "Python 3 (ipykernel)",
      "language": "python",
      "name": "python3"
    },
    "language_info": {
      "codemirror_mode": {
        "name": "ipython",
        "version": 3
      },
      "file_extension": ".py",
      "mimetype": "text/x-python",
      "name": "python",
      "nbconvert_exporter": "python",
      "pygments_lexer": "ipython3",
      "version": "3.9.7"
    },
    "colab": {
      "name": "NeuralNetworkBasic_실습.ipynb",
      "provenance": [],
      "collapsed_sections": []
    }
  },
  "nbformat": 4,
  "nbformat_minor": 5
}