{
 "cells": [
  {
   "cell_type": "markdown",
   "metadata": {
    "id": "_PTZ7GaPe4PF"
   },
   "source": [
    "# 18기 KNN 정규세션 과제"
   ]
  },
  {
   "cell_type": "markdown",
   "metadata": {
    "id": "3OFNeO0Ie4PH"
   },
   "source": [
    "## KNN 구현해보기\n",
    "### 1. Preprocssing / EDA\n",
    "지금까지 배운 내용을 토대로 해당 데이터에 대해 자유롭게 전처리와 EDA를 진행해주세요.\n",
    "### 2. KNN 구현 & 파라미터 튜닝\n",
    "수업 내용 및 실습 자료를 참고하여 KNN을 구현하고 파라미터 튜닝을 하며 결과를 비교해주세요.\n",
    "### 3. Evaluation\n",
    "결과에 대한 평가를 진행하고, 나름의 해석을 달아주세요."
   ]
  },
  {
   "cell_type": "markdown",
   "metadata": {
    "id": "k_IkS8Ybe4PI"
   },
   "source": [
    "**데이터:** [blackfriday | Kaggle](https://www.kaggle.com/llopesolivei/blackfriday)"
   ]
  },
  {
   "cell_type": "markdown",
   "metadata": {},
   "source": [
    "라이브러리"
   ]
  },
  {
   "cell_type": "code",
   "execution_count": 101,
   "metadata": {},
   "outputs": [],
   "source": [
    "\n",
    "import matplotlib.pyplot as plt\n",
    "import seaborn as sns\n",
    "\n",
    "import warnings\n",
    "warnings.filterwarnings('ignore')"
   ]
  },
  {
   "cell_type": "markdown",
   "metadata": {
    "id": "lTlQgiSie4PI"
   },
   "source": [
    "## 0. 데이터 불러오기"
   ]
  },
  {
   "cell_type": "code",
   "execution_count": 1,
   "metadata": {
    "id": "eNTRK8Ete4PJ",
    "outputId": "de247747-4645-49a6-c5d2-38cc1a381d42"
   },
   "outputs": [
    {
     "data": {
      "text/html": [
       "<div>\n",
       "<style scoped>\n",
       "    .dataframe tbody tr th:only-of-type {\n",
       "        vertical-align: middle;\n",
       "    }\n",
       "\n",
       "    .dataframe tbody tr th {\n",
       "        vertical-align: top;\n",
       "    }\n",
       "\n",
       "    .dataframe thead th {\n",
       "        text-align: right;\n",
       "    }\n",
       "</style>\n",
       "<table border=\"1\" class=\"dataframe\">\n",
       "  <thead>\n",
       "    <tr style=\"text-align: right;\">\n",
       "      <th></th>\n",
       "      <th>User_ID</th>\n",
       "      <th>Product_ID</th>\n",
       "      <th>Gender</th>\n",
       "      <th>Age</th>\n",
       "      <th>Occupation</th>\n",
       "      <th>City_Category</th>\n",
       "      <th>Stay_In_Current_City_Years</th>\n",
       "      <th>Marital_Status</th>\n",
       "      <th>Product_Category_1</th>\n",
       "      <th>Product_Category_2</th>\n",
       "      <th>Product_Category_3</th>\n",
       "      <th>Purchase</th>\n",
       "    </tr>\n",
       "  </thead>\n",
       "  <tbody>\n",
       "    <tr>\n",
       "      <th>0</th>\n",
       "      <td>1001088</td>\n",
       "      <td>P00046042</td>\n",
       "      <td>F</td>\n",
       "      <td>0-17</td>\n",
       "      <td>10</td>\n",
       "      <td>A</td>\n",
       "      <td>3</td>\n",
       "      <td>0</td>\n",
       "      <td>5</td>\n",
       "      <td>17.0</td>\n",
       "      <td>NaN</td>\n",
       "      <td>2010</td>\n",
       "    </tr>\n",
       "    <tr>\n",
       "      <th>1</th>\n",
       "      <td>1004493</td>\n",
       "      <td>P00347742</td>\n",
       "      <td>F</td>\n",
       "      <td>0-17</td>\n",
       "      <td>10</td>\n",
       "      <td>A</td>\n",
       "      <td>1</td>\n",
       "      <td>0</td>\n",
       "      <td>7</td>\n",
       "      <td>NaN</td>\n",
       "      <td>NaN</td>\n",
       "      <td>4483</td>\n",
       "    </tr>\n",
       "    <tr>\n",
       "      <th>2</th>\n",
       "      <td>1005302</td>\n",
       "      <td>P00048942</td>\n",
       "      <td>F</td>\n",
       "      <td>0-17</td>\n",
       "      <td>10</td>\n",
       "      <td>A</td>\n",
       "      <td>1</td>\n",
       "      <td>0</td>\n",
       "      <td>1</td>\n",
       "      <td>4.0</td>\n",
       "      <td>NaN</td>\n",
       "      <td>7696</td>\n",
       "    </tr>\n",
       "    <tr>\n",
       "      <th>3</th>\n",
       "      <td>1001348</td>\n",
       "      <td>P00145242</td>\n",
       "      <td>F</td>\n",
       "      <td>0-17</td>\n",
       "      <td>10</td>\n",
       "      <td>A</td>\n",
       "      <td>3</td>\n",
       "      <td>0</td>\n",
       "      <td>2</td>\n",
       "      <td>4.0</td>\n",
       "      <td>NaN</td>\n",
       "      <td>16429</td>\n",
       "    </tr>\n",
       "    <tr>\n",
       "      <th>4</th>\n",
       "      <td>1001348</td>\n",
       "      <td>P00106742</td>\n",
       "      <td>F</td>\n",
       "      <td>0-17</td>\n",
       "      <td>10</td>\n",
       "      <td>A</td>\n",
       "      <td>3</td>\n",
       "      <td>0</td>\n",
       "      <td>3</td>\n",
       "      <td>5.0</td>\n",
       "      <td>NaN</td>\n",
       "      <td>5780</td>\n",
       "    </tr>\n",
       "  </tbody>\n",
       "</table>\n",
       "</div>"
      ],
      "text/plain": [
       "   User_ID Product_ID Gender   Age  Occupation City_Category  \\\n",
       "0  1001088  P00046042      F  0-17          10             A   \n",
       "1  1004493  P00347742      F  0-17          10             A   \n",
       "2  1005302  P00048942      F  0-17          10             A   \n",
       "3  1001348  P00145242      F  0-17          10             A   \n",
       "4  1001348  P00106742      F  0-17          10             A   \n",
       "\n",
       "  Stay_In_Current_City_Years  Marital_Status  Product_Category_1  \\\n",
       "0                          3               0                   5   \n",
       "1                          1               0                   7   \n",
       "2                          1               0                   1   \n",
       "3                          3               0                   2   \n",
       "4                          3               0                   3   \n",
       "\n",
       "   Product_Category_2  Product_Category_3  Purchase  \n",
       "0                17.0                 NaN      2010  \n",
       "1                 NaN                 NaN      4483  \n",
       "2                 4.0                 NaN      7696  \n",
       "3                 4.0                 NaN     16429  \n",
       "4                 5.0                 NaN      5780  "
      ]
     },
     "execution_count": 1,
     "metadata": {},
     "output_type": "execute_result"
    }
   ],
   "source": [
    "import pandas as pd\n",
    "df = pd.read_csv(\"blackfriday.csv\", index_col = 0)\n",
    "df.head()"
   ]
  },
  {
   "cell_type": "markdown",
   "metadata": {},
   "source": [
    "### 1. Preprocssing / EDA"
   ]
  },
  {
   "cell_type": "markdown",
   "metadata": {},
   "source": [
    "결측치 확인 및 데이터 타입 확인\n",
    "- Product_Category_2 와 Product_Category_3에 다수 결측치가 존재"
   ]
  },
  {
   "cell_type": "code",
   "execution_count": 3,
   "metadata": {},
   "outputs": [
    {
     "name": "stdout",
     "output_type": "stream",
     "text": [
      "<class 'pandas.core.frame.DataFrame'>\n",
      "Int64Index: 4998 entries, 0 to 4997\n",
      "Data columns (total 12 columns):\n",
      " #   Column                      Non-Null Count  Dtype  \n",
      "---  ------                      --------------  -----  \n",
      " 0   User_ID                     4998 non-null   int64  \n",
      " 1   Product_ID                  4998 non-null   object \n",
      " 2   Gender                      4998 non-null   object \n",
      " 3   Age                         4998 non-null   object \n",
      " 4   Occupation                  4998 non-null   int64  \n",
      " 5   City_Category               4998 non-null   object \n",
      " 6   Stay_In_Current_City_Years  4998 non-null   object \n",
      " 7   Marital_Status              4998 non-null   int64  \n",
      " 8   Product_Category_1          4998 non-null   int64  \n",
      " 9   Product_Category_2          3465 non-null   float64\n",
      " 10  Product_Category_3          1544 non-null   float64\n",
      " 11  Purchase                    4998 non-null   int64  \n",
      "dtypes: float64(2), int64(5), object(5)\n",
      "memory usage: 507.6+ KB\n"
     ]
    }
   ],
   "source": [
    "df.info()"
   ]
  },
  {
   "cell_type": "markdown",
   "metadata": {},
   "source": [
    "Product_Category_3 의 경우 전체 데이터 4998개 중에서 3454개가 결측 : 비율 69.1%\n",
    "- 해당 열은 제거하기"
   ]
  },
  {
   "cell_type": "code",
   "execution_count": 9,
   "metadata": {},
   "outputs": [
    {
     "data": {
      "text/plain": [
       "69.10764305722289"
      ]
     },
     "execution_count": 9,
     "metadata": {},
     "output_type": "execute_result"
    }
   ],
   "source": [
    "df[df[\"Product_Category_3\"].isnull()].shape[0] / len(df) * 100 "
   ]
  },
  {
   "cell_type": "markdown",
   "metadata": {},
   "source": [
    "Product_Category_2 의 경우 전체 데이터 4998개 중에서 1533개가 결측 : 비율 30.6%"
   ]
  },
  {
   "cell_type": "code",
   "execution_count": 22,
   "metadata": {},
   "outputs": [
    {
     "data": {
      "text/plain": [
       "30.672268907563026"
      ]
     },
     "execution_count": 22,
     "metadata": {},
     "output_type": "execute_result"
    }
   ],
   "source": [
    "df[df[\"Product_Category_2\"].isnull()].shape[0] / len(df) * 100 "
   ]
  },
  {
   "cell_type": "code",
   "execution_count": 23,
   "metadata": {},
   "outputs": [],
   "source": [
    "preprocess_df = df.copy()"
   ]
  },
  {
   "cell_type": "code",
   "execution_count": 24,
   "metadata": {},
   "outputs": [],
   "source": [
    "preprocess_df.drop([\"Product_Category_3\"],axis=1,inplace=True)"
   ]
  },
  {
   "cell_type": "markdown",
   "metadata": {},
   "source": [
    "NaN은 없지만 음수와 같은 logical missing value 확인하기\n",
    "- logical missing value가 존재하지 않음\n",
    "- 거의 모든 데이터가 categorical\n",
    "- occupation(직업)도 직업코드로 이루어져있음"
   ]
  },
  {
   "cell_type": "code",
   "execution_count": 18,
   "metadata": {},
   "outputs": [
    {
     "data": {
      "text/html": [
       "<div>\n",
       "<style scoped>\n",
       "    .dataframe tbody tr th:only-of-type {\n",
       "        vertical-align: middle;\n",
       "    }\n",
       "\n",
       "    .dataframe tbody tr th {\n",
       "        vertical-align: top;\n",
       "    }\n",
       "\n",
       "    .dataframe thead th {\n",
       "        text-align: right;\n",
       "    }\n",
       "</style>\n",
       "<table border=\"1\" class=\"dataframe\">\n",
       "  <thead>\n",
       "    <tr style=\"text-align: right;\">\n",
       "      <th></th>\n",
       "      <th>User_ID</th>\n",
       "      <th>Product_ID</th>\n",
       "      <th>Gender</th>\n",
       "      <th>Age</th>\n",
       "      <th>Occupation</th>\n",
       "      <th>City_Category</th>\n",
       "      <th>Stay_In_Current_City_Years</th>\n",
       "      <th>Marital_Status</th>\n",
       "      <th>Product_Category_1</th>\n",
       "      <th>Purchase</th>\n",
       "    </tr>\n",
       "  </thead>\n",
       "  <tbody>\n",
       "    <tr>\n",
       "      <th>0</th>\n",
       "      <td>1001088</td>\n",
       "      <td>P00046042</td>\n",
       "      <td>F</td>\n",
       "      <td>0-17</td>\n",
       "      <td>10</td>\n",
       "      <td>A</td>\n",
       "      <td>3</td>\n",
       "      <td>0</td>\n",
       "      <td>5</td>\n",
       "      <td>2010</td>\n",
       "    </tr>\n",
       "    <tr>\n",
       "      <th>1</th>\n",
       "      <td>1004493</td>\n",
       "      <td>P00347742</td>\n",
       "      <td>F</td>\n",
       "      <td>0-17</td>\n",
       "      <td>10</td>\n",
       "      <td>A</td>\n",
       "      <td>1</td>\n",
       "      <td>0</td>\n",
       "      <td>7</td>\n",
       "      <td>4483</td>\n",
       "    </tr>\n",
       "    <tr>\n",
       "      <th>2</th>\n",
       "      <td>1005302</td>\n",
       "      <td>P00048942</td>\n",
       "      <td>F</td>\n",
       "      <td>0-17</td>\n",
       "      <td>10</td>\n",
       "      <td>A</td>\n",
       "      <td>1</td>\n",
       "      <td>0</td>\n",
       "      <td>1</td>\n",
       "      <td>7696</td>\n",
       "    </tr>\n",
       "  </tbody>\n",
       "</table>\n",
       "</div>"
      ],
      "text/plain": [
       "   User_ID Product_ID Gender   Age  Occupation City_Category  \\\n",
       "0  1001088  P00046042      F  0-17          10             A   \n",
       "1  1004493  P00347742      F  0-17          10             A   \n",
       "2  1005302  P00048942      F  0-17          10             A   \n",
       "\n",
       "  Stay_In_Current_City_Years  Marital_Status  Product_Category_1  Purchase  \n",
       "0                          3               0                   5      2010  \n",
       "1                          1               0                   7      4483  \n",
       "2                          1               0                   1      7696  "
      ]
     },
     "execution_count": 18,
     "metadata": {},
     "output_type": "execute_result"
    }
   ],
   "source": [
    "preprocess_df.head(3)"
   ]
  },
  {
   "cell_type": "code",
   "execution_count": 17,
   "metadata": {
    "scrolled": false
   },
   "outputs": [
    {
     "name": "stdout",
     "output_type": "stream",
     "text": [
      "User_ID ---------------\n",
      "1002063    12\n",
      "1005795    12\n",
      "1001980    11\n",
      "1004344    11\n",
      "1006036    10\n",
      "           ..\n",
      "1004980     1\n",
      "1004385     1\n",
      "1004138     1\n",
      "1002648     1\n",
      "1000837     1\n",
      "Name: User_ID, Length: 2656, dtype: int64\n",
      "Product_ID ---------------\n",
      "P00265242    21\n",
      "P00220442    16\n",
      "P00114942    15\n",
      "P00010742    15\n",
      "P00148642    15\n",
      "             ..\n",
      "P00072342     1\n",
      "P00037842     1\n",
      "P00207042     1\n",
      "P00129742     1\n",
      "P00358242     1\n",
      "Name: Product_ID, Length: 1797, dtype: int64\n",
      "Gender ---------------\n",
      "M    3765\n",
      "F    1233\n",
      "Name: Gender, dtype: int64\n",
      "Age ---------------\n",
      "26-35    1996\n",
      "36-45    1000\n",
      "18-25     906\n",
      "46-50     414\n",
      "51-55     350\n",
      "55+       195\n",
      "0-17      137\n",
      "Name: Age, dtype: int64\n",
      "Occupation ---------------\n",
      "4     706\n",
      "0     572\n",
      "7     535\n",
      "1     460\n",
      "17    339\n",
      "12    305\n",
      "20    285\n",
      "2     251\n",
      "14    245\n",
      "16    244\n",
      "6     186\n",
      "3     160\n",
      "15    133\n",
      "10    122\n",
      "5      98\n",
      "11     95\n",
      "19     73\n",
      "13     65\n",
      "18     56\n",
      "9      50\n",
      "8      18\n",
      "Name: Occupation, dtype: int64\n",
      "City_Category ---------------\n",
      "B    2102\n",
      "C    1555\n",
      "A    1341\n",
      "Name: City_Category, dtype: int64\n",
      "Stay_In_Current_City_Years ---------------\n",
      "1     1758\n",
      "2      915\n",
      "3      908\n",
      "4+     742\n",
      "0      675\n",
      "Name: Stay_In_Current_City_Years, dtype: int64\n",
      "Marital_Status ---------------\n",
      "0    2892\n",
      "1    2106\n",
      "Name: Marital_Status, dtype: int64\n",
      "Product_Category_1 ---------------\n",
      "5     1407\n",
      "1     1285\n",
      "8      995\n",
      "2      227\n",
      "11     206\n",
      "3      193\n",
      "6      193\n",
      "4      107\n",
      "16      78\n",
      "15      57\n",
      "13      43\n",
      "10      41\n",
      "7       40\n",
      "12      31\n",
      "20      31\n",
      "19      20\n",
      "14      19\n",
      "18      18\n",
      "17       6\n",
      "9        1\n",
      "Name: Product_Category_1, dtype: int64\n",
      "Purchase ---------------\n",
      "7001     6\n",
      "7063     6\n",
      "5328     6\n",
      "8115     6\n",
      "7176     5\n",
      "        ..\n",
      "12069    1\n",
      "16668    1\n",
      "3187     1\n",
      "4043     1\n",
      "1413     1\n",
      "Name: Purchase, Length: 3736, dtype: int64\n"
     ]
    }
   ],
   "source": [
    "for col in preprocess_df.columns:\n",
    "    print(col,\"---------------\")\n",
    "    print(preprocess_df[col].value_counts())"
   ]
  },
  {
   "cell_type": "markdown",
   "metadata": {},
   "source": [
    "User_ID와 Product_ID 값의 종류가 매우 많음\n",
    "- Product_ID는 제품 ID에 관한 열로 Categorical\n",
    "- 각각 2656개 1797개의 종류를 가지고 있음\n",
    "- 거의 대부분의 Product_ID는 코드 42로 끝난다\n",
    "- Product_ID의 앞의 4자리는 5개의 그룹으로 나뉜다\n",
    "- Product_ID의 중간 3자리는 935개의 그룹으로 분류된다"
   ]
  },
  {
   "cell_type": "markdown",
   "metadata": {},
   "source": []
  },
  {
   "cell_type": "code",
   "execution_count": 40,
   "metadata": {},
   "outputs": [],
   "source": [
    "test = preprocess_df.copy()"
   ]
  },
  {
   "cell_type": "code",
   "execution_count": 41,
   "metadata": {},
   "outputs": [],
   "source": [
    "test[\"Product_ID_last\"] = test[\"Product_ID\"].apply(lambda x : x[-2:])\n",
    "test[\"Product_ID_first\"] = test[\"Product_ID\"].apply(lambda x : x[:4])\n",
    "test[\"Product_ID_middle\"] = test[\"Product_ID\"].apply(lambda x : x[4:-2])"
   ]
  },
  {
   "cell_type": "code",
   "execution_count": 42,
   "metadata": {},
   "outputs": [
    {
     "data": {
      "text/plain": [
       "42    4947\n",
       "44      13\n",
       "53      11\n",
       "36      11\n",
       "93       9\n",
       "45       7\n",
       "Name: Product_ID_last, dtype: int64"
      ]
     },
     "execution_count": 42,
     "metadata": {},
     "output_type": "execute_result"
    }
   ],
   "source": [
    "test[\"Product_ID_last\"].value_counts()"
   ]
  },
  {
   "cell_type": "code",
   "execution_count": 43,
   "metadata": {},
   "outputs": [
    {
     "data": {
      "text/plain": [
       "P001    1687\n",
       "P002    1282\n",
       "P000    1229\n",
       "P003     718\n",
       "P009      82\n",
       "Name: Product_ID_first, dtype: int64"
      ]
     },
     "execution_count": 43,
     "metadata": {},
     "output_type": "execute_result"
    }
   ],
   "source": [
    "test[\"Product_ID_first\"].value_counts()"
   ]
  },
  {
   "cell_type": "code",
   "execution_count": 45,
   "metadata": {},
   "outputs": [
    {
     "data": {
      "text/plain": [
       "652    28\n",
       "107    26\n",
       "295    23\n",
       "594    23\n",
       "108    21\n",
       "       ..\n",
       "41      1\n",
       "857     1\n",
       "658     1\n",
       "787     1\n",
       "671     1\n",
       "Name: Product_ID_middle, Length: 935, dtype: int64"
      ]
     },
     "execution_count": 45,
     "metadata": {},
     "output_type": "execute_result"
    }
   ],
   "source": [
    "test[\"Product_ID_middle\"].value_counts()"
   ]
  },
  {
   "cell_type": "markdown",
   "metadata": {},
   "source": [
    "##### Product_ID_first와 Product_ID_last를 특성으로 가져간다\n",
    "- 기존의 Product_ID 열은 사용하지 않음"
   ]
  },
  {
   "cell_type": "code",
   "execution_count": 46,
   "metadata": {},
   "outputs": [],
   "source": [
    "preprocess_df[\"Product_ID_last\"] = preprocess_df[\"Product_ID\"].apply(lambda x : x[-2:])\n",
    "preprocess_df[\"Product_ID_first\"] = preprocess_df[\"Product_ID\"].apply(lambda x : x[:4])"
   ]
  },
  {
   "cell_type": "code",
   "execution_count": 49,
   "metadata": {},
   "outputs": [],
   "source": [
    "preprocess_df.drop([\"Product_ID\",\"User_ID\"],axis=1,inplace=True)"
   ]
  },
  {
   "cell_type": "code",
   "execution_count": 50,
   "metadata": {},
   "outputs": [
    {
     "data": {
      "text/html": [
       "<div>\n",
       "<style scoped>\n",
       "    .dataframe tbody tr th:only-of-type {\n",
       "        vertical-align: middle;\n",
       "    }\n",
       "\n",
       "    .dataframe tbody tr th {\n",
       "        vertical-align: top;\n",
       "    }\n",
       "\n",
       "    .dataframe thead th {\n",
       "        text-align: right;\n",
       "    }\n",
       "</style>\n",
       "<table border=\"1\" class=\"dataframe\">\n",
       "  <thead>\n",
       "    <tr style=\"text-align: right;\">\n",
       "      <th></th>\n",
       "      <th>Gender</th>\n",
       "      <th>Age</th>\n",
       "      <th>Occupation</th>\n",
       "      <th>City_Category</th>\n",
       "      <th>Stay_In_Current_City_Years</th>\n",
       "      <th>Marital_Status</th>\n",
       "      <th>Product_Category_1</th>\n",
       "      <th>Product_Category_2</th>\n",
       "      <th>Purchase</th>\n",
       "      <th>Product_ID_last</th>\n",
       "      <th>Product_ID_first</th>\n",
       "    </tr>\n",
       "  </thead>\n",
       "  <tbody>\n",
       "    <tr>\n",
       "      <th>0</th>\n",
       "      <td>F</td>\n",
       "      <td>0-17</td>\n",
       "      <td>10</td>\n",
       "      <td>A</td>\n",
       "      <td>3</td>\n",
       "      <td>0</td>\n",
       "      <td>5</td>\n",
       "      <td>17.0</td>\n",
       "      <td>2010</td>\n",
       "      <td>42</td>\n",
       "      <td>P000</td>\n",
       "    </tr>\n",
       "    <tr>\n",
       "      <th>1</th>\n",
       "      <td>F</td>\n",
       "      <td>0-17</td>\n",
       "      <td>10</td>\n",
       "      <td>A</td>\n",
       "      <td>1</td>\n",
       "      <td>0</td>\n",
       "      <td>7</td>\n",
       "      <td>NaN</td>\n",
       "      <td>4483</td>\n",
       "      <td>42</td>\n",
       "      <td>P003</td>\n",
       "    </tr>\n",
       "    <tr>\n",
       "      <th>2</th>\n",
       "      <td>F</td>\n",
       "      <td>0-17</td>\n",
       "      <td>10</td>\n",
       "      <td>A</td>\n",
       "      <td>1</td>\n",
       "      <td>0</td>\n",
       "      <td>1</td>\n",
       "      <td>4.0</td>\n",
       "      <td>7696</td>\n",
       "      <td>42</td>\n",
       "      <td>P000</td>\n",
       "    </tr>\n",
       "    <tr>\n",
       "      <th>3</th>\n",
       "      <td>F</td>\n",
       "      <td>0-17</td>\n",
       "      <td>10</td>\n",
       "      <td>A</td>\n",
       "      <td>3</td>\n",
       "      <td>0</td>\n",
       "      <td>2</td>\n",
       "      <td>4.0</td>\n",
       "      <td>16429</td>\n",
       "      <td>42</td>\n",
       "      <td>P001</td>\n",
       "    </tr>\n",
       "    <tr>\n",
       "      <th>4</th>\n",
       "      <td>F</td>\n",
       "      <td>0-17</td>\n",
       "      <td>10</td>\n",
       "      <td>A</td>\n",
       "      <td>3</td>\n",
       "      <td>0</td>\n",
       "      <td>3</td>\n",
       "      <td>5.0</td>\n",
       "      <td>5780</td>\n",
       "      <td>42</td>\n",
       "      <td>P001</td>\n",
       "    </tr>\n",
       "  </tbody>\n",
       "</table>\n",
       "</div>"
      ],
      "text/plain": [
       "  Gender   Age  Occupation City_Category Stay_In_Current_City_Years  \\\n",
       "0      F  0-17          10             A                          3   \n",
       "1      F  0-17          10             A                          1   \n",
       "2      F  0-17          10             A                          1   \n",
       "3      F  0-17          10             A                          3   \n",
       "4      F  0-17          10             A                          3   \n",
       "\n",
       "   Marital_Status  Product_Category_1  Product_Category_2  Purchase  \\\n",
       "0               0                   5                17.0      2010   \n",
       "1               0                   7                 NaN      4483   \n",
       "2               0                   1                 4.0      7696   \n",
       "3               0                   2                 4.0     16429   \n",
       "4               0                   3                 5.0      5780   \n",
       "\n",
       "  Product_ID_last Product_ID_first  \n",
       "0              42             P000  \n",
       "1              42             P003  \n",
       "2              42             P000  \n",
       "3              42             P001  \n",
       "4              42             P001  "
      ]
     },
     "execution_count": 50,
     "metadata": {},
     "output_type": "execute_result"
    }
   ],
   "source": [
    "preprocess_df.head()"
   ]
  },
  {
   "cell_type": "markdown",
   "metadata": {},
   "source": [
    "Product_Category_2의 결측을 해결해야 한다\n",
    "- 제품 카테고리로 Product ID와 연관성이 높을 것으로 판단\n",
    "- Product_ID_first와 상관관계 파악해서 결측치 채우기\n",
    "- 결측치를 채우기 모호한 상황이라 판단해 Product_Category_2의 결측을 채우지 않음"
   ]
  },
  {
   "cell_type": "code",
   "execution_count": 69,
   "metadata": {},
   "outputs": [],
   "source": [
    "value_count = preprocess_df[[\"Product_ID_first\",\"Product_Category_2\"]].value_counts().reset_index()\n",
    "value_count.columns = [\"Product_ID_first\",\"Product_Category_2\",\"cnt\"]"
   ]
  },
  {
   "cell_type": "code",
   "execution_count": 70,
   "metadata": {},
   "outputs": [
    {
     "data": {
      "text/html": [
       "<div>\n",
       "<style scoped>\n",
       "    .dataframe tbody tr th:only-of-type {\n",
       "        vertical-align: middle;\n",
       "    }\n",
       "\n",
       "    .dataframe tbody tr th {\n",
       "        vertical-align: top;\n",
       "    }\n",
       "\n",
       "    .dataframe thead th {\n",
       "        text-align: right;\n",
       "    }\n",
       "</style>\n",
       "<table border=\"1\" class=\"dataframe\">\n",
       "  <thead>\n",
       "    <tr style=\"text-align: right;\">\n",
       "      <th></th>\n",
       "      <th>Product_ID_first</th>\n",
       "      <th>Product_Category_2</th>\n",
       "      <th>cnt</th>\n",
       "    </tr>\n",
       "  </thead>\n",
       "  <tbody>\n",
       "    <tr>\n",
       "      <th>0</th>\n",
       "      <td>P001</td>\n",
       "      <td>2.0</td>\n",
       "      <td>201</td>\n",
       "    </tr>\n",
       "    <tr>\n",
       "      <th>2</th>\n",
       "      <td>P001</td>\n",
       "      <td>8.0</td>\n",
       "      <td>187</td>\n",
       "    </tr>\n",
       "    <tr>\n",
       "      <th>4</th>\n",
       "      <td>P001</td>\n",
       "      <td>14.0</td>\n",
       "      <td>155</td>\n",
       "    </tr>\n",
       "    <tr>\n",
       "      <th>7</th>\n",
       "      <td>P001</td>\n",
       "      <td>16.0</td>\n",
       "      <td>126</td>\n",
       "    </tr>\n",
       "    <tr>\n",
       "      <th>9</th>\n",
       "      <td>P001</td>\n",
       "      <td>15.0</td>\n",
       "      <td>115</td>\n",
       "    </tr>\n",
       "    <tr>\n",
       "      <th>13</th>\n",
       "      <td>P001</td>\n",
       "      <td>5.0</td>\n",
       "      <td>96</td>\n",
       "    </tr>\n",
       "    <tr>\n",
       "      <th>14</th>\n",
       "      <td>P001</td>\n",
       "      <td>4.0</td>\n",
       "      <td>94</td>\n",
       "    </tr>\n",
       "    <tr>\n",
       "      <th>20</th>\n",
       "      <td>P001</td>\n",
       "      <td>17.0</td>\n",
       "      <td>66</td>\n",
       "    </tr>\n",
       "    <tr>\n",
       "      <th>23</th>\n",
       "      <td>P001</td>\n",
       "      <td>11.0</td>\n",
       "      <td>51</td>\n",
       "    </tr>\n",
       "    <tr>\n",
       "      <th>24</th>\n",
       "      <td>P001</td>\n",
       "      <td>6.0</td>\n",
       "      <td>50</td>\n",
       "    </tr>\n",
       "    <tr>\n",
       "      <th>29</th>\n",
       "      <td>P001</td>\n",
       "      <td>13.0</td>\n",
       "      <td>29</td>\n",
       "    </tr>\n",
       "    <tr>\n",
       "      <th>30</th>\n",
       "      <td>P001</td>\n",
       "      <td>9.0</td>\n",
       "      <td>29</td>\n",
       "    </tr>\n",
       "    <tr>\n",
       "      <th>44</th>\n",
       "      <td>P001</td>\n",
       "      <td>10.0</td>\n",
       "      <td>18</td>\n",
       "    </tr>\n",
       "    <tr>\n",
       "      <th>45</th>\n",
       "      <td>P001</td>\n",
       "      <td>12.0</td>\n",
       "      <td>16</td>\n",
       "    </tr>\n",
       "    <tr>\n",
       "      <th>56</th>\n",
       "      <td>P001</td>\n",
       "      <td>3.0</td>\n",
       "      <td>8</td>\n",
       "    </tr>\n",
       "    <tr>\n",
       "      <th>58</th>\n",
       "      <td>P001</td>\n",
       "      <td>7.0</td>\n",
       "      <td>7</td>\n",
       "    </tr>\n",
       "    <tr>\n",
       "      <th>63</th>\n",
       "      <td>P001</td>\n",
       "      <td>18.0</td>\n",
       "      <td>5</td>\n",
       "    </tr>\n",
       "  </tbody>\n",
       "</table>\n",
       "</div>"
      ],
      "text/plain": [
       "   Product_ID_first  Product_Category_2  cnt\n",
       "0              P001                 2.0  201\n",
       "2              P001                 8.0  187\n",
       "4              P001                14.0  155\n",
       "7              P001                16.0  126\n",
       "9              P001                15.0  115\n",
       "13             P001                 5.0   96\n",
       "14             P001                 4.0   94\n",
       "20             P001                17.0   66\n",
       "23             P001                11.0   51\n",
       "24             P001                 6.0   50\n",
       "29             P001                13.0   29\n",
       "30             P001                 9.0   29\n",
       "44             P001                10.0   18\n",
       "45             P001                12.0   16\n",
       "56             P001                 3.0    8\n",
       "58             P001                 7.0    7\n",
       "63             P001                18.0    5"
      ]
     },
     "execution_count": 70,
     "metadata": {},
     "output_type": "execute_result"
    }
   ],
   "source": [
    "value_count[value_count[\"Product_ID_first\"] == \"P001\"]"
   ]
  },
  {
   "cell_type": "code",
   "execution_count": 74,
   "metadata": {},
   "outputs": [],
   "source": [
    "preprocess_df.drop([\"Product_Category_2\"],axis=1,inplace=True)"
   ]
  },
  {
   "cell_type": "code",
   "execution_count": 75,
   "metadata": {},
   "outputs": [
    {
     "name": "stdout",
     "output_type": "stream",
     "text": [
      "<class 'pandas.core.frame.DataFrame'>\n",
      "Int64Index: 4998 entries, 0 to 4997\n",
      "Data columns (total 10 columns):\n",
      " #   Column                      Non-Null Count  Dtype \n",
      "---  ------                      --------------  ----- \n",
      " 0   Gender                      4998 non-null   object\n",
      " 1   Age                         4998 non-null   object\n",
      " 2   Occupation                  4998 non-null   int64 \n",
      " 3   City_Category               4998 non-null   object\n",
      " 4   Stay_In_Current_City_Years  4998 non-null   object\n",
      " 5   Marital_Status              4998 non-null   int64 \n",
      " 6   Product_Category_1          4998 non-null   int64 \n",
      " 7   Purchase                    4998 non-null   int64 \n",
      " 8   Product_ID_last             4998 non-null   object\n",
      " 9   Product_ID_first            4998 non-null   object\n",
      "dtypes: int64(4), object(6)\n",
      "memory usage: 429.5+ KB\n"
     ]
    }
   ],
   "source": [
    "preprocess_df.info()"
   ]
  },
  {
   "cell_type": "markdown",
   "metadata": {},
   "source": [
    "Marital_Status 와 Target인 Purchase를 제외한 데이터 모두 One-hot-Encoding 진행하기"
   ]
  },
  {
   "cell_type": "code",
   "execution_count": 76,
   "metadata": {},
   "outputs": [
    {
     "data": {
      "text/plain": [
       "0    2892\n",
       "1    2106\n",
       "Name: Marital_Status, dtype: int64"
      ]
     },
     "execution_count": 76,
     "metadata": {},
     "output_type": "execute_result"
    }
   ],
   "source": [
    "preprocess_df[\"Marital_Status\"].value_counts()"
   ]
  },
  {
   "cell_type": "code",
   "execution_count": 77,
   "metadata": {},
   "outputs": [],
   "source": [
    "# One-Hot-Encoding (1)\n",
    "\n",
    "categorical_1 = ['Gender', 'Age', 'Occupation', 'City_Category', \n",
    "                 'Stay_In_Current_City_Years', 'Product_Category_1', 'Product_ID_last',\"Product_ID_first\"]\n",
    "\n",
    "encoder_df = pd.get_dummies(preprocess_df,columns = categorical_1)"
   ]
  },
  {
   "cell_type": "code",
   "execution_count": 207,
   "metadata": {},
   "outputs": [
    {
     "data": {
      "text/plain": [
       "(4998, 71)"
      ]
     },
     "execution_count": 207,
     "metadata": {},
     "output_type": "execute_result"
    }
   ],
   "source": [
    "encoder_df.shape"
   ]
  },
  {
   "cell_type": "markdown",
   "metadata": {},
   "source": [
    "최종데이터 프레임 확인"
   ]
  },
  {
   "cell_type": "code",
   "execution_count": 79,
   "metadata": {
    "scrolled": true
   },
   "outputs": [
    {
     "name": "stdout",
     "output_type": "stream",
     "text": [
      "<class 'pandas.core.frame.DataFrame'>\n",
      "Int64Index: 4998 entries, 0 to 4997\n",
      "Data columns (total 71 columns):\n",
      " #   Column                         Non-Null Count  Dtype\n",
      "---  ------                         --------------  -----\n",
      " 0   Marital_Status                 4998 non-null   int64\n",
      " 1   Purchase                       4998 non-null   int64\n",
      " 2   Gender_F                       4998 non-null   uint8\n",
      " 3   Gender_M                       4998 non-null   uint8\n",
      " 4   Age_0-17                       4998 non-null   uint8\n",
      " 5   Age_18-25                      4998 non-null   uint8\n",
      " 6   Age_26-35                      4998 non-null   uint8\n",
      " 7   Age_36-45                      4998 non-null   uint8\n",
      " 8   Age_46-50                      4998 non-null   uint8\n",
      " 9   Age_51-55                      4998 non-null   uint8\n",
      " 10  Age_55+                        4998 non-null   uint8\n",
      " 11  Occupation_0                   4998 non-null   uint8\n",
      " 12  Occupation_1                   4998 non-null   uint8\n",
      " 13  Occupation_2                   4998 non-null   uint8\n",
      " 14  Occupation_3                   4998 non-null   uint8\n",
      " 15  Occupation_4                   4998 non-null   uint8\n",
      " 16  Occupation_5                   4998 non-null   uint8\n",
      " 17  Occupation_6                   4998 non-null   uint8\n",
      " 18  Occupation_7                   4998 non-null   uint8\n",
      " 19  Occupation_8                   4998 non-null   uint8\n",
      " 20  Occupation_9                   4998 non-null   uint8\n",
      " 21  Occupation_10                  4998 non-null   uint8\n",
      " 22  Occupation_11                  4998 non-null   uint8\n",
      " 23  Occupation_12                  4998 non-null   uint8\n",
      " 24  Occupation_13                  4998 non-null   uint8\n",
      " 25  Occupation_14                  4998 non-null   uint8\n",
      " 26  Occupation_15                  4998 non-null   uint8\n",
      " 27  Occupation_16                  4998 non-null   uint8\n",
      " 28  Occupation_17                  4998 non-null   uint8\n",
      " 29  Occupation_18                  4998 non-null   uint8\n",
      " 30  Occupation_19                  4998 non-null   uint8\n",
      " 31  Occupation_20                  4998 non-null   uint8\n",
      " 32  City_Category_A                4998 non-null   uint8\n",
      " 33  City_Category_B                4998 non-null   uint8\n",
      " 34  City_Category_C                4998 non-null   uint8\n",
      " 35  Stay_In_Current_City_Years_0   4998 non-null   uint8\n",
      " 36  Stay_In_Current_City_Years_1   4998 non-null   uint8\n",
      " 37  Stay_In_Current_City_Years_2   4998 non-null   uint8\n",
      " 38  Stay_In_Current_City_Years_3   4998 non-null   uint8\n",
      " 39  Stay_In_Current_City_Years_4+  4998 non-null   uint8\n",
      " 40  Product_Category_1_1           4998 non-null   uint8\n",
      " 41  Product_Category_1_2           4998 non-null   uint8\n",
      " 42  Product_Category_1_3           4998 non-null   uint8\n",
      " 43  Product_Category_1_4           4998 non-null   uint8\n",
      " 44  Product_Category_1_5           4998 non-null   uint8\n",
      " 45  Product_Category_1_6           4998 non-null   uint8\n",
      " 46  Product_Category_1_7           4998 non-null   uint8\n",
      " 47  Product_Category_1_8           4998 non-null   uint8\n",
      " 48  Product_Category_1_9           4998 non-null   uint8\n",
      " 49  Product_Category_1_10          4998 non-null   uint8\n",
      " 50  Product_Category_1_11          4998 non-null   uint8\n",
      " 51  Product_Category_1_12          4998 non-null   uint8\n",
      " 52  Product_Category_1_13          4998 non-null   uint8\n",
      " 53  Product_Category_1_14          4998 non-null   uint8\n",
      " 54  Product_Category_1_15          4998 non-null   uint8\n",
      " 55  Product_Category_1_16          4998 non-null   uint8\n",
      " 56  Product_Category_1_17          4998 non-null   uint8\n",
      " 57  Product_Category_1_18          4998 non-null   uint8\n",
      " 58  Product_Category_1_19          4998 non-null   uint8\n",
      " 59  Product_Category_1_20          4998 non-null   uint8\n",
      " 60  Product_ID_last_36             4998 non-null   uint8\n",
      " 61  Product_ID_last_42             4998 non-null   uint8\n",
      " 62  Product_ID_last_44             4998 non-null   uint8\n",
      " 63  Product_ID_last_45             4998 non-null   uint8\n",
      " 64  Product_ID_last_53             4998 non-null   uint8\n",
      " 65  Product_ID_last_93             4998 non-null   uint8\n",
      " 66  Product_ID_first_P000          4998 non-null   uint8\n",
      " 67  Product_ID_first_P001          4998 non-null   uint8\n",
      " 68  Product_ID_first_P002          4998 non-null   uint8\n",
      " 69  Product_ID_first_P003          4998 non-null   uint8\n",
      " 70  Product_ID_first_P009          4998 non-null   uint8\n",
      "dtypes: int64(2), uint8(69)\n",
      "memory usage: 453.9 KB\n"
     ]
    }
   ],
   "source": [
    "encoder_df.info()"
   ]
  },
  {
   "cell_type": "markdown",
   "metadata": {},
   "source": [
    "Target 데이터 분포 확인하기\n",
    "- train_test_split으로 데이터를 나누는 과정에서 Taregt가 고르게 분포해야할 것 같다는 가정"
   ]
  },
  {
   "cell_type": "code",
   "execution_count": 82,
   "metadata": {},
   "outputs": [
    {
     "data": {
      "text/plain": [
       "<AxesSubplot:>"
      ]
     },
     "execution_count": 82,
     "metadata": {},
     "output_type": "execute_result"
    },
    {
     "data": {
      "image/png": "[encoded data removed]",
      "text/plain": [
       "<Figure size 432x288 with 1 Axes>"
      ]
     },
     "metadata": {
      "needs_background": "light"
     },
     "output_type": "display_data"
    }
   ],
   "source": [
    "encoder_df[\"Purchase\"].hist()"
   ]
  },
  {
   "cell_type": "markdown",
   "metadata": {},
   "source": [
    "설명변수와 Target 데이터 분리하기\n",
    "- y_train, y_test 둘다 원래 분포롸 유사하게 추출된 것을 볼 수 있음"
   ]
  },
  {
   "cell_type": "code",
   "execution_count": 90,
   "metadata": {},
   "outputs": [],
   "source": [
    "from sklearn.model_selection import train_test_split"
   ]
  },
  {
   "cell_type": "code",
   "execution_count": 91,
   "metadata": {},
   "outputs": [],
   "source": [
    "X = encoder_df.drop([\"Purchase\"],axis=1)\n",
    "y = encoder_df[\"Purchase\"]\n",
    "\n",
    "x_train, x_test, y_train, y_test = train_test_split(X,y,random_state=0,test_size=0.2)"
   ]
  },
  {
   "cell_type": "code",
   "execution_count": 92,
   "metadata": {},
   "outputs": [
    {
     "data": {
      "text/plain": [
       "<AxesSubplot:>"
      ]
     },
     "execution_count": 92,
     "metadata": {},
     "output_type": "execute_result"
    },
    {
     "data": {
      "image/png": "[encoded data removed]",
      "text/plain": [
       "<Figure size 432x288 with 1 Axes>"
      ]
     },
     "metadata": {
      "needs_background": "light"
     },
     "output_type": "display_data"
    }
   ],
   "source": [
    "y_train.hist(color=\"red\")\n",
    "y_test.hist()"
   ]
  },
  {
   "cell_type": "code",
   "execution_count": 93,
   "metadata": {},
   "outputs": [
    {
     "data": {
      "text/plain": [
       "3998"
      ]
     },
     "execution_count": 93,
     "metadata": {},
     "output_type": "execute_result"
    }
   ],
   "source": [
    "x_train.shape[0]"
   ]
  },
  {
   "cell_type": "code",
   "execution_count": 94,
   "metadata": {},
   "outputs": [
    {
     "data": {
      "text/plain": [
       "1000"
      ]
     },
     "execution_count": 94,
     "metadata": {},
     "output_type": "execute_result"
    }
   ],
   "source": [
    "x_test.shape[0]"
   ]
  },
  {
   "cell_type": "markdown",
   "metadata": {},
   "source": [
    "### KNN 모델링\n",
    "- 여러가지 조건들을 변경하면서 모델링 진행하기"
   ]
  },
  {
   "cell_type": "markdown",
   "metadata": {},
   "source": [
    "조건1\n",
    "- Euclidean Distance를 이용(default)\n",
    "- n_neighbors를 조정 : 인근 데이터를 몇개까지 탐색할 것인지 일반적으로 1 ~ 20\n",
    "- weighted KNN이 아닌 가중치가 없는 KNN\n",
    "- 정확도 기반으로 확인하기"
   ]
  },
  {
   "cell_type": "code",
   "execution_count": 99,
   "metadata": {},
   "outputs": [
    {
     "name": "stderr",
     "output_type": "stream",
     "text": [
      "100%|██████████████████████████████████████████████████████████████████████████████████| 24/24 [00:11<00:00,  2.15it/s]\n"
     ]
    }
   ],
   "source": [
    "from tqdm import tqdm\n",
    "from sklearn.neighbors import KNeighborsRegressor, DistanceMetric, NearestNeighbors\n",
    "\n",
    "k_range = range(1, 25)\n",
    "train_accuracy = []\n",
    "test_accuracy = []\n",
    "\n",
    "for k in tqdm(k_range): # 1부터 25까지 순차적으로 확인\n",
    "    reg = KNeighborsRegressor(n_neighbors = k)     # default : weights = 'uniform(가중치 없음)', p = 2 (standard Euclidean metric)\n",
    "    reg.fit(x_train, y_train)\n",
    "    train_accuracy.append(reg.score(x_train, y_train))     # k_range에 따른 Score\n",
    "    test_accuracy.append(reg.score(x_test, y_test))"
   ]
  },
  {
   "cell_type": "markdown",
   "metadata": {},
   "source": [
    "시각화 하기\n",
    "- n_neighbors 파라미터 수치가 높아짐에 따라 train accuracy는 감소, test accuracy는 증가하는 경향"
   ]
  },
  {
   "cell_type": "code",
   "execution_count": 102,
   "metadata": {},
   "outputs": [
    {
     "data": {
      "image/png": "[encoded data removed]",
      "text/plain": [
       "<Figure size 432x288 with 1 Axes>"
      ]
     },
     "metadata": {
      "needs_background": "light"
     },
     "output_type": "display_data"
    }
   ],
   "source": [
    "plt.plot(k_range, train_accuracy, label = \"train Accuracy\")\n",
    "plt.plot(k_range, test_accuracy, label = \"test Accuracy\")\n",
    "plt.xlabel(\"n_neighbors\")\n",
    "plt.ylabel(\"Regression Score\")\n",
    "plt.grid()\n",
    "plt.legend()\n",
    "plt.show()"
   ]
  },
  {
   "cell_type": "markdown",
   "metadata": {},
   "source": [
    "train accuracy와 test accuracy를 통해 최적의 k 찾기\n",
    "- train accuracy의 상위 10개 index\n",
    "- test accuracy의 상위 10개 index 추출해서 교집합을 한다면 확인가능"
   ]
  },
  {
   "cell_type": "code",
   "execution_count": 119,
   "metadata": {},
   "outputs": [
    {
     "data": {
      "text/html": [
       "<div>\n",
       "<style scoped>\n",
       "    .dataframe tbody tr th:only-of-type {\n",
       "        vertical-align: middle;\n",
       "    }\n",
       "\n",
       "    .dataframe tbody tr th {\n",
       "        vertical-align: top;\n",
       "    }\n",
       "\n",
       "    .dataframe thead th {\n",
       "        text-align: right;\n",
       "    }\n",
       "</style>\n",
       "<table border=\"1\" class=\"dataframe\">\n",
       "  <thead>\n",
       "    <tr style=\"text-align: right;\">\n",
       "      <th></th>\n",
       "      <th>train_accuracy</th>\n",
       "      <th>k</th>\n",
       "      <th>test_accuracy</th>\n",
       "    </tr>\n",
       "  </thead>\n",
       "  <tbody>\n",
       "    <tr>\n",
       "      <th>0</th>\n",
       "      <td>0.917291</td>\n",
       "      <td>1</td>\n",
       "      <td>-0.056958</td>\n",
       "    </tr>\n",
       "    <tr>\n",
       "      <th>1</th>\n",
       "      <td>0.701695</td>\n",
       "      <td>2</td>\n",
       "      <td>0.155598</td>\n",
       "    </tr>\n",
       "    <tr>\n",
       "      <th>2</th>\n",
       "      <td>0.619165</td>\n",
       "      <td>3</td>\n",
       "      <td>0.218829</td>\n",
       "    </tr>\n",
       "    <tr>\n",
       "      <th>3</th>\n",
       "      <td>0.567569</td>\n",
       "      <td>4</td>\n",
       "      <td>0.325322</td>\n",
       "    </tr>\n",
       "    <tr>\n",
       "      <th>4</th>\n",
       "      <td>0.540989</td>\n",
       "      <td>5</td>\n",
       "      <td>0.342766</td>\n",
       "    </tr>\n",
       "  </tbody>\n",
       "</table>\n",
       "</div>"
      ],
      "text/plain": [
       "   train_accuracy  k  test_accuracy\n",
       "0        0.917291  1      -0.056958\n",
       "1        0.701695  2       0.155598\n",
       "2        0.619165  3       0.218829\n",
       "3        0.567569  4       0.325322\n",
       "4        0.540989  5       0.342766"
      ]
     },
     "execution_count": 119,
     "metadata": {},
     "output_type": "execute_result"
    }
   ],
   "source": [
    "accuracy_df = pd.DataFrame(train_accuracy,columns=[\"train_accuracy\"])\n",
    "accuracy_df[\"k\"] = k_range\n",
    "accuracy_df[\"test_accuracy\"] = test_accuracy\n",
    "accuracy_df.head()"
   ]
  },
  {
   "cell_type": "code",
   "execution_count": 153,
   "metadata": {},
   "outputs": [],
   "source": [
    "train_rank_15 = accuracy_df.sort_values([\"train_accuracy\"],ascending=False).iloc[:15,1]\n",
    "\n",
    "test_rank_15 = accuracy_df.sort_values([\"test_accuracy\"],ascending=False).iloc[:15,1]"
   ]
  },
  {
   "cell_type": "code",
   "execution_count": 154,
   "metadata": {},
   "outputs": [
    {
     "data": {
      "text/plain": [
       "array([ 1,  2,  3,  4,  5,  6,  7,  8,  9, 10, 11, 12, 13, 14, 15],\n",
       "      dtype=int64)"
      ]
     },
     "execution_count": 154,
     "metadata": {},
     "output_type": "execute_result"
    }
   ],
   "source": [
    "train_rank_15.values\n",
    "# 상위 15개 k값 추출"
   ]
  },
  {
   "cell_type": "code",
   "execution_count": 155,
   "metadata": {},
   "outputs": [
    {
     "data": {
      "text/plain": [
       "array([22, 24, 23, 21, 20, 17, 16, 19, 18, 15, 12, 13, 14,  9, 10],\n",
       "      dtype=int64)"
      ]
     },
     "execution_count": 155,
     "metadata": {},
     "output_type": "execute_result"
    }
   ],
   "source": [
    "test_rank_15.values\n",
    "# 상위 15개 k값 추출"
   ]
  },
  {
   "cell_type": "code",
   "execution_count": 157,
   "metadata": {},
   "outputs": [
    {
     "data": {
      "text/plain": [
       "array([ 9, 10, 12, 13, 14, 15], dtype=int64)"
      ]
     },
     "execution_count": 157,
     "metadata": {},
     "output_type": "execute_result"
    }
   ],
   "source": [
    "import numpy as np\n",
    "np.intersect1d(train_rank_15.values,test_rank_15.values)"
   ]
  },
  {
   "cell_type": "markdown",
   "metadata": {},
   "source": [
    "k가 12, 13, 14, 15 일때 최고 성능"
   ]
  },
  {
   "cell_type": "code",
   "execution_count": 162,
   "metadata": {},
   "outputs": [
    {
     "data": {
      "text/html": [
       "<div>\n",
       "<style scoped>\n",
       "    .dataframe tbody tr th:only-of-type {\n",
       "        vertical-align: middle;\n",
       "    }\n",
       "\n",
       "    .dataframe tbody tr th {\n",
       "        vertical-align: top;\n",
       "    }\n",
       "\n",
       "    .dataframe thead th {\n",
       "        text-align: right;\n",
       "    }\n",
       "</style>\n",
       "<table border=\"1\" class=\"dataframe\">\n",
       "  <thead>\n",
       "    <tr style=\"text-align: right;\">\n",
       "      <th></th>\n",
       "      <th>train_accuracy</th>\n",
       "      <th>k</th>\n",
       "      <th>test_accuracy</th>\n",
       "    </tr>\n",
       "  </thead>\n",
       "  <tbody>\n",
       "    <tr>\n",
       "      <th>11</th>\n",
       "      <td>0.444678</td>\n",
       "      <td>12</td>\n",
       "      <td>0.370890</td>\n",
       "    </tr>\n",
       "    <tr>\n",
       "      <th>12</th>\n",
       "      <td>0.435504</td>\n",
       "      <td>13</td>\n",
       "      <td>0.366932</td>\n",
       "    </tr>\n",
       "    <tr>\n",
       "      <th>13</th>\n",
       "      <td>0.427466</td>\n",
       "      <td>14</td>\n",
       "      <td>0.366587</td>\n",
       "    </tr>\n",
       "    <tr>\n",
       "      <th>14</th>\n",
       "      <td>0.423048</td>\n",
       "      <td>15</td>\n",
       "      <td>0.372856</td>\n",
       "    </tr>\n",
       "  </tbody>\n",
       "</table>\n",
       "</div>"
      ],
      "text/plain": [
       "    train_accuracy   k  test_accuracy\n",
       "11        0.444678  12       0.370890\n",
       "12        0.435504  13       0.366932\n",
       "13        0.427466  14       0.366587\n",
       "14        0.423048  15       0.372856"
      ]
     },
     "execution_count": 162,
     "metadata": {},
     "output_type": "execute_result"
    }
   ],
   "source": [
    "accuracy_df[(accuracy_df[\"k\"] == 12) | (accuracy_df[\"k\"] == 13) | (accuracy_df[\"k\"] == 14) | (accuracy_df[\"k\"] == 15)]"
   ]
  },
  {
   "cell_type": "markdown",
   "metadata": {},
   "source": [
    "#### Distance Measure 변경하기\n",
    "- Euclidean Distance 대신 다른 Distance Measure 이용해보기\n",
    "- Manhattan Distance"
   ]
  },
  {
   "cell_type": "markdown",
   "metadata": {},
   "source": [
    "#### Manhattan\n",
    "- 뚜렷한 성능의 변화가 보이지는 않음\n",
    "- Distance Measure가 아닌 데이터 변화시키기"
   ]
  },
  {
   "cell_type": "code",
   "execution_count": 160,
   "metadata": {},
   "outputs": [
    {
     "name": "stderr",
     "output_type": "stream",
     "text": [
      "100%|██████████████████████████████████████████████████████████████████████████████████| 24/24 [00:30<00:00,  1.28s/it]\n"
     ]
    },
    {
     "data": {
      "image/png": "[encoded data removed]",
      "text/plain": [
       "<Figure size 432x288 with 1 Axes>"
      ]
     },
     "metadata": {
      "needs_background": "light"
     },
     "output_type": "display_data"
    }
   ],
   "source": [
    "k_range = range(1, 25)\n",
    "train_accuracy_manh = []\n",
    "test_accuracy_manh = []\n",
    "\n",
    "for k in tqdm(k_range): # 1부터 25까지 순차적으로 확인\n",
    "    reg_manh = KNeighborsRegressor(n_neighbors = k, metric =\"manhattan\",p=1)\n",
    "    reg_manh.fit(x_train, y_train)\n",
    "    \n",
    "    train_accuracy_manh.append(reg_manh.score(x_train, y_train))     # k_range에 따른 Score\n",
    "    test_accuracy_manh.append(reg_manh.score(x_test, y_test))\n",
    "    \n",
    "    \n",
    "plt.plot(k_range, train_accuracy_manh, label = \"train_accuracy_manh\")\n",
    "plt.plot(k_range, test_accuracy_manh, label = \"test_accuracy_manh\")\n",
    "plt.xlabel(\"n_neighbors\")\n",
    "plt.ylabel(\"Regression Score\")\n",
    "plt.grid()\n",
    "plt.legend()\n",
    "plt.show()"
   ]
  },
  {
   "cell_type": "markdown",
   "metadata": {},
   "source": [
    "#### Accuracy가 낮은 이유\n",
    "- 모든 데이터가 Categorical이기에 One-Hot-Encoding을 하게 되면 희소행렬이 커지게 되고\n",
    "- Feauture 수가 많아지고 데이터 간의 거리가 멀어져 모델의 설명력이 감소하게 되는 상태\n",
    "- 차원축소를 통해 적절하게 희소행렬을 해소해보자"
   ]
  },
  {
   "cell_type": "markdown",
   "metadata": {},
   "source": [
    "PCA를 통한 차원축소\n",
    "- 주성분 설명력 합이 90% 이상이 되는 지점 찾기\n",
    "- https://jimmy-ai.tistory.com/128"
   ]
  },
  {
   "cell_type": "code",
   "execution_count": 172,
   "metadata": {},
   "outputs": [
    {
     "name": "stderr",
     "output_type": "stream",
     "text": [
      "100%|██████████████████████████████████████████████████████████████████████████████████| 69/69 [00:02<00:00, 31.26it/s]\n"
     ]
    }
   ],
   "source": [
    "from sklearn.decomposition import PCA\n",
    "n_range = range(1,70)\n",
    "variance_lst = []\n",
    "\n",
    "\n",
    "for n in tqdm(n_range):\n",
    "    pca = PCA(n_components=n) # 주성분을 몇개로 할지 결정\n",
    "    printcipalComponents = pca.fit_transform(X)\n",
    "    principalDf = pd.DataFrame(data=printcipalComponents, columns = [\"col \"+str(i) for i in range(n)])\n",
    "    \n",
    "    variance_lst.append(sum(pca.explained_variance_ratio_))"
   ]
  },
  {
   "cell_type": "code",
   "execution_count": 169,
   "metadata": {},
   "outputs": [
    {
     "data": {
      "text/plain": [
       "array([0.07472087, 0.07038886, 0.0636904 , 0.05967184, 0.05891352,\n",
       "       0.05253124, 0.0500108 , 0.0476266 , 0.04458646, 0.04071437])"
      ]
     },
     "execution_count": 169,
     "metadata": {},
     "output_type": "execute_result"
    }
   ],
   "source": [
    "pca.explained_variance_ratio_"
   ]
  },
  {
   "cell_type": "code",
   "execution_count": 173,
   "metadata": {},
   "outputs": [
    {
     "data": {
      "image/png": "[encoded data removed]",
      "text/plain": [
       "<Figure size 432x288 with 1 Axes>"
      ]
     },
     "metadata": {
      "needs_background": "light"
     },
     "output_type": "display_data"
    }
   ],
   "source": [
    "plt.plot(n_range, variance_lst, label = \"explained_variance_ratio_\")\n",
    "plt.xlabel(\"n_range\")\n",
    "plt.ylabel(\"explained_variance_ratio_\")\n",
    "plt.grid()\n",
    "plt.legend()\n",
    "plt.show()"
   ]
  },
  {
   "cell_type": "markdown",
   "metadata": {},
   "source": [
    "27개의 주성분으로 PCA 할 때부터 총 설명력이 0.9 넘게 된다"
   ]
  },
  {
   "cell_type": "code",
   "execution_count": 183,
   "metadata": {},
   "outputs": [
    {
     "data": {
      "text/html": [
       "<div>\n",
       "<style scoped>\n",
       "    .dataframe tbody tr th:only-of-type {\n",
       "        vertical-align: middle;\n",
       "    }\n",
       "\n",
       "    .dataframe tbody tr th {\n",
       "        vertical-align: top;\n",
       "    }\n",
       "\n",
       "    .dataframe thead th {\n",
       "        text-align: right;\n",
       "    }\n",
       "</style>\n",
       "<table border=\"1\" class=\"dataframe\">\n",
       "  <thead>\n",
       "    <tr style=\"text-align: right;\">\n",
       "      <th></th>\n",
       "      <th>index</th>\n",
       "      <th>over_0.9</th>\n",
       "    </tr>\n",
       "  </thead>\n",
       "  <tbody>\n",
       "    <tr>\n",
       "      <th>27</th>\n",
       "      <td>27</td>\n",
       "      <td>True</td>\n",
       "    </tr>\n",
       "    <tr>\n",
       "      <th>28</th>\n",
       "      <td>28</td>\n",
       "      <td>True</td>\n",
       "    </tr>\n",
       "    <tr>\n",
       "      <th>29</th>\n",
       "      <td>29</td>\n",
       "      <td>True</td>\n",
       "    </tr>\n",
       "  </tbody>\n",
       "</table>\n",
       "</div>"
      ],
      "text/plain": [
       "    index  over_0.9\n",
       "27     27      True\n",
       "28     28      True\n",
       "29     29      True"
      ]
     },
     "execution_count": 183,
     "metadata": {},
     "output_type": "execute_result"
    }
   ],
   "source": [
    "pca_series = (pd.Series(variance_lst) > 0.9).reset_index()\n",
    "pca_series.columns = [\"index\",\"over_0.9\"]\n",
    "\n",
    "pca_series[pca_series[\"over_0.9\"]].head(3)"
   ]
  },
  {
   "cell_type": "code",
   "execution_count": 185,
   "metadata": {},
   "outputs": [],
   "source": [
    "pca = PCA(n_components=27) # 주성분을 몇개로 할지 결정\n",
    "printcipalComponents = pca.fit_transform(X)\n",
    "principalDf = pd.DataFrame(data=printcipalComponents, columns = [\"col \"+str(i) for i in range(27)])"
   ]
  },
  {
   "cell_type": "markdown",
   "metadata": {},
   "source": [
    "PCA 이후 데이터 재분배\n",
    "- PCA한 데이터를 기반으로 KNN 사용 시 오히려 성능 감소"
   ]
  },
  {
   "cell_type": "code",
   "execution_count": 193,
   "metadata": {},
   "outputs": [],
   "source": [
    "pca_x_train, pca_x_test,pca_y_train, pca_y_test = train_test_split(principalDf,y,random_state=0,test_size=0.2)"
   ]
  },
  {
   "cell_type": "code",
   "execution_count": 194,
   "metadata": {},
   "outputs": [
    {
     "name": "stderr",
     "output_type": "stream",
     "text": [
      "100%|██████████████████████████████████████████████████████████████████████████████████| 24/24 [00:06<00:00,  3.94it/s]\n"
     ]
    },
    {
     "data": {
      "image/png": "[encoded data removed]",
      "text/plain": [
       "<Figure size 432x288 with 1 Axes>"
      ]
     },
     "metadata": {
      "needs_background": "light"
     },
     "output_type": "display_data"
    }
   ],
   "source": [
    "k_range = range(1, 25)\n",
    "train_accuracy_manh_pca = []\n",
    "test_accuracy_manh_pca = []\n",
    "\n",
    "for k in tqdm(k_range): # 1부터 25까지 순차적으로 확인\n",
    "    reg_manh = KNeighborsRegressor(n_neighbors = k, metric =\"manhattan\",p=1)\n",
    "    reg_manh.fit(pca_x_train, pca_y_train)\n",
    "    \n",
    "    train_accuracy_manh_pca.append(reg_manh.score(pca_x_train, pca_y_train))     # k_range에 따른 Score\n",
    "    test_accuracy_manh_pca.append(reg_manh.score(pca_x_test, pca_y_test))\n",
    "    \n",
    "    \n",
    "plt.plot(k_range, train_accuracy_manh_pca, label = \"train_accuracy_manh\")\n",
    "plt.plot(k_range, test_accuracy_manh_pca, label = \"test_accuracy_manh\")\n",
    "plt.xlabel(\"n_neighbors\")\n",
    "plt.ylabel(\"Regression Score\")\n",
    "plt.grid()\n",
    "plt.legend()\n",
    "plt.show()"
   ]
  },
  {
   "cell_type": "markdown",
   "metadata": {},
   "source": [
    "### 참고\n",
    "- 차원 축소를 해결하기 위한 방법\n",
    "- 우수코드를 참고하여 시도해본 방법\n",
    "- Occupation을 Purchase를 기준으로 그룹화하고 평균을 내어 Encoding 하는 방식"
   ]
  },
  {
   "cell_type": "code",
   "execution_count": 198,
   "metadata": {},
   "outputs": [
    {
     "data": {
      "text/plain": [
       "21"
      ]
     },
     "execution_count": 198,
     "metadata": {},
     "output_type": "execute_result"
    }
   ],
   "source": [
    "len(preprocess_df[\"Occupation\"].value_counts())"
   ]
  },
  {
   "cell_type": "code",
   "execution_count": 196,
   "metadata": {},
   "outputs": [
    {
     "data": {
      "text/html": [
       "<div>\n",
       "<style scoped>\n",
       "    .dataframe tbody tr th:only-of-type {\n",
       "        vertical-align: middle;\n",
       "    }\n",
       "\n",
       "    .dataframe tbody tr th {\n",
       "        vertical-align: top;\n",
       "    }\n",
       "\n",
       "    .dataframe thead th {\n",
       "        text-align: right;\n",
       "    }\n",
       "</style>\n",
       "<table border=\"1\" class=\"dataframe\">\n",
       "  <thead>\n",
       "    <tr style=\"text-align: right;\">\n",
       "      <th></th>\n",
       "      <th>Marital_Status</th>\n",
       "      <th>Product_Category_1</th>\n",
       "      <th>Purchase</th>\n",
       "    </tr>\n",
       "    <tr>\n",
       "      <th>Occupation</th>\n",
       "      <th></th>\n",
       "      <th></th>\n",
       "      <th></th>\n",
       "    </tr>\n",
       "  </thead>\n",
       "  <tbody>\n",
       "    <tr>\n",
       "      <th>19</th>\n",
       "      <td>0.150685</td>\n",
       "      <td>5.123288</td>\n",
       "      <td>8170.465753</td>\n",
       "    </tr>\n",
       "    <tr>\n",
       "      <th>6</th>\n",
       "      <td>0.489247</td>\n",
       "      <td>6.069892</td>\n",
       "      <td>8402.354839</td>\n",
       "    </tr>\n",
       "    <tr>\n",
       "      <th>0</th>\n",
       "      <td>0.445804</td>\n",
       "      <td>5.412587</td>\n",
       "      <td>8732.351399</td>\n",
       "    </tr>\n",
       "    <tr>\n",
       "      <th>10</th>\n",
       "      <td>0.073770</td>\n",
       "      <td>4.975410</td>\n",
       "      <td>8897.926230</td>\n",
       "    </tr>\n",
       "    <tr>\n",
       "      <th>20</th>\n",
       "      <td>0.477193</td>\n",
       "      <td>5.705263</td>\n",
       "      <td>8900.733333</td>\n",
       "    </tr>\n",
       "    <tr>\n",
       "      <th>11</th>\n",
       "      <td>0.463158</td>\n",
       "      <td>5.536842</td>\n",
       "      <td>8925.147368</td>\n",
       "    </tr>\n",
       "    <tr>\n",
       "      <th>13</th>\n",
       "      <td>0.446154</td>\n",
       "      <td>5.692308</td>\n",
       "      <td>8964.907692</td>\n",
       "    </tr>\n",
       "    <tr>\n",
       "      <th>4</th>\n",
       "      <td>0.260623</td>\n",
       "      <td>5.184136</td>\n",
       "      <td>9066.113314</td>\n",
       "    </tr>\n",
       "    <tr>\n",
       "      <th>16</th>\n",
       "      <td>0.483607</td>\n",
       "      <td>5.364754</td>\n",
       "      <td>9102.409836</td>\n",
       "    </tr>\n",
       "    <tr>\n",
       "      <th>2</th>\n",
       "      <td>0.434263</td>\n",
       "      <td>5.470120</td>\n",
       "      <td>9144.904382</td>\n",
       "    </tr>\n",
       "    <tr>\n",
       "      <th>1</th>\n",
       "      <td>0.502174</td>\n",
       "      <td>5.410870</td>\n",
       "      <td>9189.528261</td>\n",
       "    </tr>\n",
       "    <tr>\n",
       "      <th>3</th>\n",
       "      <td>0.456250</td>\n",
       "      <td>5.237500</td>\n",
       "      <td>9298.912500</td>\n",
       "    </tr>\n",
       "    <tr>\n",
       "      <th>7</th>\n",
       "      <td>0.446729</td>\n",
       "      <td>5.411215</td>\n",
       "      <td>9366.179439</td>\n",
       "    </tr>\n",
       "    <tr>\n",
       "      <th>18</th>\n",
       "      <td>0.517857</td>\n",
       "      <td>5.339286</td>\n",
       "      <td>9654.285714</td>\n",
       "    </tr>\n",
       "    <tr>\n",
       "      <th>5</th>\n",
       "      <td>0.316327</td>\n",
       "      <td>4.918367</td>\n",
       "      <td>9718.775510</td>\n",
       "    </tr>\n",
       "    <tr>\n",
       "      <th>14</th>\n",
       "      <td>0.436735</td>\n",
       "      <td>5.008163</td>\n",
       "      <td>9794.595918</td>\n",
       "    </tr>\n",
       "    <tr>\n",
       "      <th>17</th>\n",
       "      <td>0.483776</td>\n",
       "      <td>5.156342</td>\n",
       "      <td>9837.935103</td>\n",
       "    </tr>\n",
       "    <tr>\n",
       "      <th>9</th>\n",
       "      <td>0.500000</td>\n",
       "      <td>4.360000</td>\n",
       "      <td>9863.160000</td>\n",
       "    </tr>\n",
       "    <tr>\n",
       "      <th>15</th>\n",
       "      <td>0.488722</td>\n",
       "      <td>5.421053</td>\n",
       "      <td>9883.706767</td>\n",
       "    </tr>\n",
       "    <tr>\n",
       "      <th>12</th>\n",
       "      <td>0.475410</td>\n",
       "      <td>4.977049</td>\n",
       "      <td>10111.459016</td>\n",
       "    </tr>\n",
       "    <tr>\n",
       "      <th>8</th>\n",
       "      <td>0.611111</td>\n",
       "      <td>4.722222</td>\n",
       "      <td>10294.722222</td>\n",
       "    </tr>\n",
       "  </tbody>\n",
       "</table>\n",
       "</div>"
      ],
      "text/plain": [
       "            Marital_Status  Product_Category_1      Purchase\n",
       "Occupation                                                  \n",
       "19                0.150685            5.123288   8170.465753\n",
       "6                 0.489247            6.069892   8402.354839\n",
       "0                 0.445804            5.412587   8732.351399\n",
       "10                0.073770            4.975410   8897.926230\n",
       "20                0.477193            5.705263   8900.733333\n",
       "11                0.463158            5.536842   8925.147368\n",
       "13                0.446154            5.692308   8964.907692\n",
       "4                 0.260623            5.184136   9066.113314\n",
       "16                0.483607            5.364754   9102.409836\n",
       "2                 0.434263            5.470120   9144.904382\n",
       "1                 0.502174            5.410870   9189.528261\n",
       "3                 0.456250            5.237500   9298.912500\n",
       "7                 0.446729            5.411215   9366.179439\n",
       "18                0.517857            5.339286   9654.285714\n",
       "5                 0.316327            4.918367   9718.775510\n",
       "14                0.436735            5.008163   9794.595918\n",
       "17                0.483776            5.156342   9837.935103\n",
       "9                 0.500000            4.360000   9863.160000\n",
       "15                0.488722            5.421053   9883.706767\n",
       "12                0.475410            4.977049  10111.459016\n",
       "8                 0.611111            4.722222  10294.722222"
      ]
     },
     "execution_count": 196,
     "metadata": {},
     "output_type": "execute_result"
    }
   ],
   "source": [
    "grouped = preprocess_df.groupby(['Occupation']).mean().sort_values(by = ['Purchase'])\n",
    "grouped"
   ]
  },
  {
   "cell_type": "code",
   "execution_count": 200,
   "metadata": {},
   "outputs": [
    {
     "name": "stdout",
     "output_type": "stream",
     "text": [
      "평균 Purchase가 Low인 Occupation :  [19, 6, 0, 10, 20, 11, 13]\n",
      "평균 Purchase가 Medium인 Occupation :  [4, 16, 2, 1, 3, 7, 18]\n",
      "평균 Purchase가 High인 Occupation :  Int64Index([5, 14, 17, 9, 15, 12, 8], dtype='int64', name='Occupation')\n"
     ]
    }
   ],
   "source": [
    "occupation_Low = list(grouped.index[:7])\n",
    "occupation_Medium = list(grouped.index[7:14])\n",
    "occupation_High = (grouped.index[14:])\n",
    "\n",
    "print(\"평균 Purchase가 Low인 Occupation : \", occupation_Low)\n",
    "print(\"평균 Purchase가 Medium인 Occupation : \", occupation_Medium)\n",
    "print(\"평균 Purchase가 High인 Occupation : \", occupation_High)"
   ]
  },
  {
   "cell_type": "code",
   "execution_count": 202,
   "metadata": {},
   "outputs": [],
   "source": [
    "def encode(x):\n",
    "    if x in occupation_Low:\n",
    "        return \"occupation_Low\"\n",
    "    \n",
    "    if x in occupation_Medium:\n",
    "        return \"occupation_Medium\"\n",
    "    \n",
    "    if x in occupation_High:\n",
    "        return \"occupation_High\""
   ]
  },
  {
   "cell_type": "code",
   "execution_count": 203,
   "metadata": {},
   "outputs": [],
   "source": [
    "preprocess_df[\"Occupation\"] = preprocess_df[\"Occupation\"].apply(lambda x : encode(x))"
   ]
  },
  {
   "cell_type": "markdown",
   "metadata": {},
   "source": [
    "Occupation Column이 21개에서 3개로 축소"
   ]
  },
  {
   "cell_type": "code",
   "execution_count": 205,
   "metadata": {},
   "outputs": [],
   "source": [
    "# One-Hot-Encoding (1)\n",
    "\n",
    "categorical_1 = ['Gender', 'Age', 'Occupation', 'City_Category', \n",
    "                 'Stay_In_Current_City_Years', 'Product_Category_1', 'Product_ID_last',\"Product_ID_first\"]\n",
    "\n",
    "encoder_df_pca = pd.get_dummies(preprocess_df,columns = categorical_1)"
   ]
  },
  {
   "cell_type": "code",
   "execution_count": 208,
   "metadata": {},
   "outputs": [
    {
     "data": {
      "text/plain": [
       "(4998, 53)"
      ]
     },
     "execution_count": 208,
     "metadata": {},
     "output_type": "execute_result"
    }
   ],
   "source": [
    "encoder_df_pca.shape\n",
    "# 71개에서 53개로 컬럼 감소"
   ]
  },
  {
   "cell_type": "code",
   "execution_count": 209,
   "metadata": {},
   "outputs": [
    {
     "name": "stderr",
     "output_type": "stream",
     "text": [
      "100%|██████████████████████████████████████████████████████████████████████████████████| 24/24 [00:10<00:00,  2.33it/s]\n"
     ]
    },
    {
     "data": {
      "image/png": "[encoded data removed]",
      "text/plain": [
       "<Figure size 432x288 with 1 Axes>"
      ]
     },
     "metadata": {
      "needs_background": "light"
     },
     "output_type": "display_data"
    }
   ],
   "source": [
    "X = encoder_df_pca.drop([\"Purchase\"],axis=1)\n",
    "y = encoder_df_pca[\"Purchase\"]\n",
    "\n",
    "x_train, x_test, y_train, y_test = train_test_split(X,y,random_state=0,test_size=0.2)\n",
    "\n",
    "k_range = range(1, 25)\n",
    "train_accuracy = []\n",
    "test_accuracy = []\n",
    "\n",
    "for k in tqdm(k_range): # 1부터 25까지 순차적으로 확인\n",
    "    reg = KNeighborsRegressor(n_neighbors = k)     # default : weights = 'uniform(가중치 없음)', p = 2 (standard Euclidean metric)\n",
    "    reg.fit(x_train, y_train)\n",
    "    train_accuracy.append(reg.score(x_train, y_train))     # k_range에 따른 Score\n",
    "    test_accuracy.append(reg.score(x_test, y_test))\n",
    "\n",
    "plt.plot(k_range, train_accuracy, label = \"train Accuracy\")\n",
    "plt.plot(k_range, test_accuracy, label = \"test Accuracy\")\n",
    "plt.xlabel(\"n_neighbors\")\n",
    "plt.ylabel(\"Regression Score\")\n",
    "plt.grid()\n",
    "plt.legend()\n",
    "plt.show()"
   ]
  },
  {
   "cell_type": "code",
   "execution_count": 210,
   "metadata": {},
   "outputs": [
    {
     "data": {
      "text/html": [
       "<div>\n",
       "<style scoped>\n",
       "    .dataframe tbody tr th:only-of-type {\n",
       "        vertical-align: middle;\n",
       "    }\n",
       "\n",
       "    .dataframe tbody tr th {\n",
       "        vertical-align: top;\n",
       "    }\n",
       "\n",
       "    .dataframe thead th {\n",
       "        text-align: right;\n",
       "    }\n",
       "</style>\n",
       "<table border=\"1\" class=\"dataframe\">\n",
       "  <thead>\n",
       "    <tr style=\"text-align: right;\">\n",
       "      <th></th>\n",
       "      <th>train_accuracy</th>\n",
       "      <th>k</th>\n",
       "      <th>test_accuracy</th>\n",
       "    </tr>\n",
       "  </thead>\n",
       "  <tbody>\n",
       "    <tr>\n",
       "      <th>0</th>\n",
       "      <td>0.847030</td>\n",
       "      <td>1</td>\n",
       "      <td>-0.046975</td>\n",
       "    </tr>\n",
       "    <tr>\n",
       "      <th>1</th>\n",
       "      <td>0.702338</td>\n",
       "      <td>2</td>\n",
       "      <td>0.211023</td>\n",
       "    </tr>\n",
       "    <tr>\n",
       "      <th>2</th>\n",
       "      <td>0.618961</td>\n",
       "      <td>3</td>\n",
       "      <td>0.288804</td>\n",
       "    </tr>\n",
       "    <tr>\n",
       "      <th>3</th>\n",
       "      <td>0.585845</td>\n",
       "      <td>4</td>\n",
       "      <td>0.331894</td>\n",
       "    </tr>\n",
       "    <tr>\n",
       "      <th>4</th>\n",
       "      <td>0.546631</td>\n",
       "      <td>5</td>\n",
       "      <td>0.336784</td>\n",
       "    </tr>\n",
       "  </tbody>\n",
       "</table>\n",
       "</div>"
      ],
      "text/plain": [
       "   train_accuracy  k  test_accuracy\n",
       "0        0.847030  1      -0.046975\n",
       "1        0.702338  2       0.211023\n",
       "2        0.618961  3       0.288804\n",
       "3        0.585845  4       0.331894\n",
       "4        0.546631  5       0.336784"
      ]
     },
     "execution_count": 210,
     "metadata": {},
     "output_type": "execute_result"
    }
   ],
   "source": [
    "accuracy_df = pd.DataFrame(train_accuracy,columns=[\"train_accuracy\"])\n",
    "accuracy_df[\"k\"] = k_range\n",
    "accuracy_df[\"test_accuracy\"] = test_accuracy\n",
    "accuracy_df.head()"
   ]
  },
  {
   "cell_type": "markdown",
   "metadata": {},
   "source": [
    "미세하게나마 성능 증가\n",
    "- 원핫인코딩 때문에 발생한 희소행렬이 거리 기반 알고리즘에 악영향을 주는 차원의 저주가 나타남"
   ]
  },
  {
   "cell_type": "code",
   "execution_count": 212,
   "metadata": {},
   "outputs": [
    {
     "data": {
      "text/html": [
       "<div>\n",
       "<style scoped>\n",
       "    .dataframe tbody tr th:only-of-type {\n",
       "        vertical-align: middle;\n",
       "    }\n",
       "\n",
       "    .dataframe tbody tr th {\n",
       "        vertical-align: top;\n",
       "    }\n",
       "\n",
       "    .dataframe thead th {\n",
       "        text-align: right;\n",
       "    }\n",
       "</style>\n",
       "<table border=\"1\" class=\"dataframe\">\n",
       "  <thead>\n",
       "    <tr style=\"text-align: right;\">\n",
       "      <th></th>\n",
       "      <th>train_accuracy</th>\n",
       "      <th>k</th>\n",
       "      <th>test_accuracy</th>\n",
       "    </tr>\n",
       "  </thead>\n",
       "  <tbody>\n",
       "    <tr>\n",
       "      <th>11</th>\n",
       "      <td>0.453118</td>\n",
       "      <td>12</td>\n",
       "      <td>0.370780</td>\n",
       "    </tr>\n",
       "    <tr>\n",
       "      <th>12</th>\n",
       "      <td>0.447534</td>\n",
       "      <td>13</td>\n",
       "      <td>0.371513</td>\n",
       "    </tr>\n",
       "    <tr>\n",
       "      <th>13</th>\n",
       "      <td>0.440321</td>\n",
       "      <td>14</td>\n",
       "      <td>0.372274</td>\n",
       "    </tr>\n",
       "    <tr>\n",
       "      <th>14</th>\n",
       "      <td>0.435215</td>\n",
       "      <td>15</td>\n",
       "      <td>0.377016</td>\n",
       "    </tr>\n",
       "  </tbody>\n",
       "</table>\n",
       "</div>"
      ],
      "text/plain": [
       "    train_accuracy   k  test_accuracy\n",
       "11        0.453118  12       0.370780\n",
       "12        0.447534  13       0.371513\n",
       "13        0.440321  14       0.372274\n",
       "14        0.435215  15       0.377016"
      ]
     },
     "execution_count": 212,
     "metadata": {},
     "output_type": "execute_result"
    }
   ],
   "source": [
    "train_rank_15 = accuracy_df.sort_values([\"train_accuracy\"],ascending=False).iloc[:15,1]\n",
    "\n",
    "test_rank_15 = accuracy_df.sort_values([\"test_accuracy\"],ascending=False).iloc[:15,1]\n",
    "\n",
    "np.intersect1d(train_rank_15.values,test_rank_15.values)\n",
    "\n",
    "accuracy_df[(accuracy_df[\"k\"] == 12) | (accuracy_df[\"k\"] == 13) | (accuracy_df[\"k\"] == 14) | (accuracy_df[\"k\"] == 15)]"
   ]
  },
  {
   "cell_type": "code",
   "execution_count": null,
   "metadata": {},
   "outputs": [],
   "source": []
  }
 ],
 "metadata": {
  "colab": {
   "collapsed_sections": [],
   "name": "KNN 과제.ipynb",
   "provenance": []
  },
  "kernelspec": {
   "display_name": "Python 3 (ipykernel)",
   "language": "python",
   "name": "python3"
  },
  "language_info": {
   "codemirror_mode": {
    "name": "ipython",
    "version": 3
   },
   "file_extension": ".py",
   "mimetype": "text/x-python",
   "name": "python",
   "nbconvert_exporter": "python",
   "pygments_lexer": "ipython3",
   "version": "3.9.12"
  }
 },
 "nbformat": 4,
 "nbformat_minor": 1
}
